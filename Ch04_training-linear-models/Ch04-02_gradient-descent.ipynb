{
 "cells": [
  {
   "cell_type": "markdown",
   "metadata": {
    "id": "aO3PLGYZxYOb"
   },
   "source": [
    "# 4.2 경사 하강법"
   ]
  },
  {
   "cell_type": "markdown",
   "metadata": {
    "id": "gO_HCKqeJMrL"
   },
   "source": [
    "## 4.2.0 설정"
   ]
  },
  {
   "cell_type": "code",
   "execution_count": 29,
   "metadata": {
    "id": "8nP-geDIJPTu"
   },
   "outputs": [],
   "source": [
    "# 파이썬 ≥3.5 필수\n",
    "import sys\n",
    "assert sys.version_info >= (3, 5)\n",
    "\n",
    "# 사이킷런 ≥0.20 필수\n",
    "import sklearn\n",
    "assert sklearn.__version__ >= \"0.20\"\n",
    "\n",
    "# 공통 모듈 임포트\n",
    "import numpy as np\n",
    "import os\n",
    "\n",
    "# 노트북 실행 결과를 동일하게 유지하기 위해\n",
    "np.random.seed(42)\n",
    "\n",
    "# 깔끔한 그래프 출력을 위해\n",
    "%matplotlib inline\n",
    "import matplotlib as mpl\n",
    "import matplotlib.pyplot as plt\n",
    "mpl.rc('axes', labelsize=14)\n",
    "mpl.rc('xtick', labelsize=12)\n",
    "mpl.rc('ytick', labelsize=12)\n",
    "\n",
    "# 그림을 저장할 위치\n",
    "PROJECT_ROOT_DIR = \"./drive/MyDrive/Colab Notebooks\"\n",
    "CHAPTER_ID = \"training_linear_models\"\n",
    "IMAGES_PATH = os.path.join(PROJECT_ROOT_DIR, \"images\", CHAPTER_ID)\n",
    "os.makedirs(IMAGES_PATH, exist_ok=True)\n",
    "\n",
    "def save_fig(fig_id, tight_layout=True, fig_extension=\"png\", resolution=300):\n",
    "    path = os.path.join(IMAGES_PATH, fig_id + \".\" + fig_extension)\n",
    "    print(\"그림 저장:\", fig_id)\n",
    "    if tight_layout:\n",
    "        plt.tight_layout()\n",
    "    plt.savefig(path, format=fig_extension, dpi=resolution)"
   ]
  },
  {
   "cell_type": "markdown",
   "metadata": {
    "id": "sTMjNybUxdLi"
   },
   "source": [
    "## 4.2.1 경사 하강법 (GD, Gradient Descent)\n",
    "\n",
    "- 여러 종류의 문제에서 최적의 해법을 찾을 수 있는 일반적인 최적화 알고리즘\n",
    "- 기본 아이디어 : 비용 함수를 최소화하기 위해 반복해서 파라미터를 조정"
   ]
  },
  {
   "cell_type": "markdown",
   "metadata": {
    "id": "obZ9dE5e4FzR"
   },
   "source": [
    "<br>\n",
    "\n",
    "### 4.2.1.1 경사 하강법의 원리\n",
    "\n",
    "- 파라미터 벡터 $\\theta$에 대해 비용 함수의 현재 그래디언트(gradient)를 계산한다.\n",
    "- 그리고 그래디언트가 감소하는 방향으로 진행한다.\n",
    "- 그래디언트가 0이 되면 최솟값에 도달한 것이다.\n"
   ]
  },
  {
   "cell_type": "markdown",
   "metadata": {
    "id": "ZbE5AfiG4j-o"
   },
   "source": [
    "<br>\n",
    "\n",
    "### 4.2.1.2 경사 하강법 수행 과정\n",
    "\n",
    "- $\\theta$를 임의의 값으로 시작한다. (= **무작위 초기화(random initialization)**)\n",
    "- 한 번에 조금씩 비용 함수(ex. MSE)가 감소하는 방향으로 진행한다.\n",
    "- 알고리즘이 최솟값에 수렴할 때까지 점진적으로 향상시킨다.\n",
    "\n",
    "<img src=\"../img/Ch04/Ch04-02_001.png\" />\n",
    "\n",
    "- 학습 스텝 크기는 비용 함수의 기울기에 비례한다.\n",
    "- 따라서 파라미터가 최솟값에 가까워질수록 스텝 크기가 점진적으로 줄어든다."
   ]
  },
  {
   "cell_type": "markdown",
   "metadata": {
    "id": "Qf055X_t5ZpP"
   },
   "source": [
    "<br>\n",
    "\n",
    "### 4.2.1.3 학습률\n",
    "\n",
    "- 경사 하강법에서 중요한 파라미터는 **스텝의 크기**이다.\n",
    "- 스텝의 크기는 **학습률(learning rate)** 하이퍼파라미터로 결정된다."
   ]
  },
  {
   "cell_type": "markdown",
   "metadata": {
    "id": "cbV5Vnrm6Wwk"
   },
   "source": [
    "- 학습률이 너무 작으면 알고리즘이 수렴하기 위해 반복을 많이 진행해야 하므로 시간이 오래 걸린다.\n",
    "\n",
    "<img src=\"../img/Ch04/Ch04-02_002.png\" />"
   ]
  },
  {
   "cell_type": "markdown",
   "metadata": {
    "id": "2hvnwsCF6t3D"
   },
   "source": [
    "- 학습률이 너무 크면 골짜기를 가로질러 반대편으로 건너뛰게 되어 이전보다 더 높은 곳으로 올라가게 된다.\n",
    "- 이는 알고리즘을 더 큰 값으로 **발산**하게 만들어 적절한 해법을 찾지 못하게 한다.\n",
    "\n",
    "<img src=\"../img/Ch04/Ch04-02_003.png\" />"
   ]
  },
  {
   "cell_type": "markdown",
   "metadata": {
    "id": "kjx7OUeV67hK"
   },
   "source": [
    "<br>\n",
    "\n",
    "### 4.2.1.4 경사 하강법의 문제점\n",
    "\n",
    "- 모든 비용 함수가 매끈한 그릇과 같지는 않다.\n",
    "- 아래의 그림은 경사 하강법의 두 가지 문제점을 보여준다.\n",
    "\n",
    "<img src=\"../img/Ch04/Ch04-02_004.png\" />\n",
    "\n",
    "- 알고리즘이 왼쪽에서 시작하면 **전역 최솟값(global minimum)** 보다 덜 좋은 **지역 최솟값(local minimum)**에 수렴한다.\n",
    "- 알고리즘이 오른쪽에서 시작하면 평탄한 지역을 지나기 위해 시간이 오래 걸리고 일찍 멈추게 되어 전역 최솟값에 도달하지 못한다."
   ]
  },
  {
   "cell_type": "markdown",
   "metadata": {
    "id": "bTxGP23p7LyK"
   },
   "source": [
    "<br>\n",
    "\n",
    "### 4.2.1.5 경사 하강법을 위한 비용 함수의 특징\n",
    "\n",
    "- 선형 회귀를 위한 MSE 비용 함수는 곡선에서 어떤 두 점을 선택해 선을 그어도 곡선을 가로지르지 않는 **볼록 함수(convex function)**이다.\n",
    "  - 이는 지역 최솟값이 없고 하나의 전역 최솟값만 있다는 것을 의미한다.\n",
    "- 또한 연속된 함수이고 기울기가 갑자기 변하지 않는다."
   ]
  },
  {
   "cell_type": "markdown",
   "metadata": {
    "id": "iWXn9aK98L84"
   },
   "source": [
    "- 이 두 사실로부터 경사 하강법이 (학습률이 너무 높지 않고 충분한 시간이 주어진다면) 전역 최솟값에 가깝게 접근할 수 있다는 것을 보장한다."
   ]
  },
  {
   "cell_type": "markdown",
   "metadata": {
    "id": "c8vute6h9D-O"
   },
   "source": [
    "<br>\n",
    "\n",
    "### 4.2.1.6 특성 스케일링 여부에 따른 경사 하강법\n",
    "\n",
    "- 비용 함수는 특성들의 스케일이 매우 다르면 길쭉한 모양일 수 있다.\n",
    "\n",
    "<img src=\"../img/Ch04/Ch04-02_005.png\" />\n",
    "\n",
    "- 왼쪽 그림\n",
    "  - 특성 1과 특성 2의 스케일이 같은 훈련 세트의 경사 하강법\n",
    "- 오른쪽 그림\n",
    "  - 특성 1이 특성 2보다 더 작은 훈련 세트의 경사 하강법\n",
    "  - 특성 1이 더 작기 때문에 비용 함수에 영향을 주기 위해서는 $\\theta_1$이 더 크게 바뀌어야 한다.\n",
    "  - 그래서 $\\theta_1$ 축을 따라서 길쭉한 모양이 된다."
   ]
  },
  {
   "cell_type": "markdown",
   "metadata": {
    "id": "xKy2c32F95A8"
   },
   "source": [
    "- 왼쪽 그림의 경사 하강법 알고리즘\n",
    "  - 경사 하강법 알고리즘이 최솟값으로 곧장 진행하고 있어 빠르게 도달한다.\n",
    "- 오른쪽 그림의 경사 하강법 알고리즘\n",
    "  - 처음엔 전역 최솟값의 방향에 거의 직각으로 향한다.\n",
    "  - 그러다가 평편한 골짜기를 길게 돌아서 나간다.\n",
    "  - 결국 최솟값에 도달하겠지만 시간이 오래 걸릴 것이다."
   ]
  },
  {
   "cell_type": "markdown",
   "metadata": {
    "id": "3uXvWYfe-fqK"
   },
   "source": [
    "- 경사 하강법을 사용할 때는 반드시 모든 특성이 같은 스케일을 갖도록 만들어야 한다.\n",
    "  - ex) 사이킷런의 `StandardScaler` 사용\n",
    "    - `StandardScaler`는 데이터의 각 특성에서 평균을 빼고 표준편차로 나누어 평균을 0으로, 분산은 1로 만든다.\n",
    "- 그렇지 않으면 수렴하는 데 훨씬 오래 걸린다."
   ]
  },
  {
   "cell_type": "markdown",
   "metadata": {
    "id": "hefZjjcN-yZK"
   },
   "source": [
    "<br>\n",
    "\n",
    "### 4.2.1.7 모델의 파라미터 공간\n",
    "\n",
    "- 앞의 그림은 모델 훈련이 (훈련 세트에서) 비용 함수를 최소화하는 모델 파라미터의 조합을 찾는 일임을 설명해준다.\n",
    "- 이를 모델의 **파라미터 공간(parameter space)**에서 찾는다고 말한다.\n",
    "- 모델이 가진 파라미터가 많을수록 이 공간의 차원은 커지고 검색이 더 어려워진다."
   ]
  },
  {
   "cell_type": "markdown",
   "metadata": {
    "id": "9XJQgcOT_G36"
   },
   "source": [
    "<br>\n",
    "\n",
    "## 4.2.2 배치 경사 하강법 (BGD, Batch Gradient Descent)"
   ]
  },
  {
   "cell_type": "markdown",
   "metadata": {
    "id": "w2K9L6Ao_Jhs"
   },
   "source": [
    "### 4.2.2.1 편도 함수\n",
    "\n",
    "- 경사 하강법을 구현하려면 각 모델 파라미터 $\\theta_j$에 대해 비용 함수의 그래디언트를 계산해야 한다.\n",
    "- 다시 말해 $\\theta_j$가 조금 변경될 때 비용 함수가 얼마나 바뀌는 지 계산해야 한다.\n",
    "- 이를 **편도 함수(partial derivative)**라고 한다.\n",
    "- 모든 차원에 대해서 특정 방향으로 바라봤을 때의 기울기를 확인한다."
   ]
  },
  {
   "cell_type": "markdown",
   "metadata": {
    "id": "ChRVElL__6nY"
   },
   "source": [
    "- 파라미터 $\\theta_j$에 대한 비용 함수의 편도 함수 식은 다음과 같다.\n",
    "\n",
    "<br>\n",
    "\n",
    "$\n",
    "\\qquad\n",
    "\\dfrac{\\partial}{\\partial \\boldsymbol{\\theta}} \\text{MSE}(\\boldsymbol{\\theta})\n",
    " = \\dfrac{2}{m} \\sum_{i=1}^m \\left( \\theta^T \\mathbf{x}^{(i)} \\mathbf{y}^{(i)} \\right) x_{j}^{(i)}\n",
    "$"
   ]
  },
  {
   "cell_type": "markdown",
   "metadata": {
    "id": "rhslZ3IkACp_"
   },
   "source": [
    "<br>\n",
    "\n",
    "### 4.2.2.2 비용 함수의 그래디언트 벡터\n",
    "\n",
    "- 편도 함수를 각각 계산하는 대신 아래의 식을 사용하여 한꺼번에 계산할 수 있다.\n",
    "- 그래디언트 벡터 $\\triangledown_\\theta \\text{MSE}(\\boldsymbol{\\theta})$ 는 비용 함수의 (모델 파라미터마다 한 개씩인) 편도 함수를 모두 담고 있다.\n",
    "\n",
    "<br>\n",
    "\n",
    "$\n",
    "\\qquad\n",
    "\\triangledown_\\theta \\text{MSE}(\\boldsymbol{\\theta}) = \n",
    "\\left\\lgroup\n",
    "\\matrix{\n",
    "    \\dfrac{\\partial}{\\partial \\boldsymbol{\\theta}_0} \\text{MSE}(\\boldsymbol{\\theta}) \\cr\n",
    "    \\dfrac{\\partial}{\\partial \\boldsymbol{\\theta}_1} \\text{MSE}(\\boldsymbol{\\theta}) \\cr\n",
    "    \\vdots \\cr\n",
    "    \\dfrac{\\partial}{\\partial \\boldsymbol{\\theta}_n} \\text{MSE}(\\boldsymbol{\\theta}) \\cr\n",
    "}\n",
    "\\right\\rgroup\n",
    "= \\dfrac{2}{m} \\mathbf{X}^T (\\mathbf{X} \\boldsymbol{\\theta} - \\mathbf{y})\n",
    "$\n",
    "\n",
    "<br>\n",
    "\n",
    "- $\\mathbf{X}$ 는 샘플 수($m$), 특성 수($n$)인 $m \\times n$ 행렬이다.\n",
    "- 이것을 $n$개의 파라미터를 가진 $n \\times 1$ 벡터 $\\theta$와 곱해서 $m \\times 1$ 벡터를 만든다.\n",
    "- 같은 크기의 $\\mathbf{y}$ 벡터를 빼고 $\\mathbf{X}$ 자기 자신과의 곱셈을 위해 $\\mathbf{X}$ 행렬을 전치시켜 $n \\times m$ 행렬로 바꿔 곱한다.\n",
    "- 최종 계산 결과는 파라미터 수와 같은 $n \\times 1$ 벡터가 된다."
   ]
  },
  {
   "cell_type": "markdown",
   "metadata": {
    "id": "c6Q9sl_mAMRe"
   },
   "source": [
    "<br>\n",
    "\n",
    "### 4.2.2.3 배치 경사 하강법\n",
    "\n",
    "- 위 공식은 매 경사 하강법 스텝에서 전체 훈련 세트 $\\mathbf{X}$에 대해 계산한다.\n",
    "- 그래서 이 알고리즘을 **배치 경사 하강법(batch gradient descent)** 라고 한다.\n",
    "- 즉, 매 스텝에서 훈련 데이터 전체를 사용한다.\n",
    "- 이런 이유로 매우 큰 훈련 세트에서는 아주 느리다.\n",
    "- 그러나 경사 하강법은 특성 수에 민감하지 않다.\n",
    "- 수십만 개의 특성에서 선형 회귀를 훈련시키려면 정규방정식이나 SVD 분해보다 경사 하강법을 사용하는 편이 훨씬 빠르다."
   ]
  },
  {
   "cell_type": "markdown",
   "metadata": {
    "id": "fDMircicH6fi"
   },
   "source": [
    "<br>\n",
    "\n",
    "### 4.2.2.4 경사 하강법의 스텝\n",
    "\n",
    "- 위로 향하는 그래디언트 벡터가 구해지면 반대 방향인 아래로 가야 한다.\n",
    "  - $\\theta$ 에서 $\\triangledown_\\theta \\text{MSE}(\\boldsymbol{\\theta})$ 를 빼야 한다는 뜻이다.\n",
    "- 여기서 학습률 $\\eta$ 가 사용된다.\n",
    "- 내려가는 스텝의 크기를 결정하기 위해 그래디언트 벡터에 $\\eta$를 곱한다.\n",
    "\n",
    "<br>\n",
    "\n",
    "$\n",
    "\\qquad\n",
    "\\theta^{\\text{(next step)}} = \\theta - \\eta \\triangledown_\\theta \\text{MSE}(\\boldsymbol{\\theta})\n",
    "$\n",
    "\n",
    "<br>"
   ]
  },
  {
   "cell_type": "markdown",
   "metadata": {
    "id": "CZUV3t9PIqHH"
   },
   "source": [
    "<br>\n",
    "\n",
    "### 4.2.2.5 배치 경사 하강법 구현\n",
    "\n",
    "$\n",
    "\\qquad\n",
    "\\triangledown_\\theta \\text{MSE}(\\boldsymbol{\\theta})\n",
    "= \\dfrac{2}{m} \\mathbf{X}^T (\\mathbf{X} \\boldsymbol{\\theta} - \\mathbf{y})\n",
    "$"
   ]
  },
  {
   "cell_type": "code",
   "execution_count": 30,
   "metadata": {
    "id": "141g9xK1IyYC"
   },
   "outputs": [],
   "source": [
    "X = 2 * np.random.rand(100, 1)\n",
    "X_b = np.c_[np.ones((100, 1)), X]\n",
    "y = 4 + 3 * X + np.random.randn(100, 1)\n",
    "\n",
    "eta = 0.1 # 학습률\n",
    "n_iterations = 1000\n",
    "m = 100\n",
    "\n",
    "theta = np.random.randn(2,1) # 무작위 초기화\n",
    "\n",
    "for iteration in range(n_iterations):\n",
    "    gradients = 2/m * X_b.T.dot(X_b.dot(theta) - y)\n",
    "    theta = theta - eta * gradients"
   ]
  },
  {
   "cell_type": "code",
   "execution_count": 31,
   "metadata": {
    "colab": {
     "base_uri": "https://localhost:8080/"
    },
    "id": "XXTVU966Jy32",
    "outputId": "050d8290-1c7d-48f3-f8ed-cb7a11abb3b1"
   },
   "outputs": [
    {
     "data": {
      "text/plain": [
       "array([[4.21509616],\n",
       "       [2.77011339]])"
      ]
     },
     "execution_count": 31,
     "metadata": {
      "tags": []
     },
     "output_type": "execute_result"
    }
   ],
   "source": [
    "theta"
   ]
  },
  {
   "cell_type": "markdown",
   "metadata": {
    "id": "3lztnxAOJ3wG"
   },
   "source": [
    "- 정규방정식으로 찾은 것과 같은 것을 확인할 수 있다."
   ]
  },
  {
   "cell_type": "code",
   "execution_count": 32,
   "metadata": {
    "colab": {
     "base_uri": "https://localhost:8080/"
    },
    "id": "8KOr6q6FKUZE",
    "outputId": "99ae32e2-6cfc-4e40-8898-b1c3e2c3c08b"
   },
   "outputs": [
    {
     "data": {
      "text/plain": [
       "array([[4.21509616],\n",
       "       [2.77011339]])"
      ]
     },
     "execution_count": 32,
     "metadata": {
      "tags": []
     },
     "output_type": "execute_result"
    }
   ],
   "source": [
    "theta_best = np.linalg.inv(X_b.T.dot(X_b)).dot(X_b.T).dot(y)\n",
    "theta_best"
   ]
  },
  {
   "cell_type": "markdown",
   "metadata": {
    "id": "V3WlYQqOJ832"
   },
   "source": [
    "<br>\n",
    "\n",
    "### 4.2.2.6 학습률 변화에 따른 경사 하강법\n",
    "\n",
    "- 아래의 그림은 3가지 다른 학습률을 사용하여 진행한 경사 하강법의 스템 처음 10개를 보여준다.\n",
    "  - 점선 : 시작점"
   ]
  },
  {
   "cell_type": "code",
   "execution_count": 33,
   "metadata": {
    "id": "BFeumPKaKNMo"
   },
   "outputs": [],
   "source": [
    "X_new = np.array([[0], [2]])\n",
    "X_new_b = np.c_[np.ones((2, 1)), X_new]\n",
    "\n",
    "def plot_gradient_descent(theta, eta, theta_path=None):\n",
    "    m = len(X_b)\n",
    "    plt.plot(X, y, 'b.')\n",
    "    n_iterations = 1000\n",
    "    for iteration in range(n_iterations):\n",
    "        if iteration < 10:\n",
    "            y_predict = X_new_b.dot(theta)\n",
    "            style = 'b-' if iteration > 0 else 'r--'\n",
    "            plt.plot(X_new, y_predict, style)\n",
    "        gradients = 2/m * X_b.T.dot(X_b.dot(theta) - y)\n",
    "        theta = theta - eta * gradients\n",
    "        if theta_path is not None:\n",
    "            theta_path.append(theta)\n",
    "    plt.xlabel(\"$x_1$\", fontsize=18)\n",
    "    plt.axis([0, 2, 0, 15])\n",
    "    plt.title(r\"$\\eta = {}$\".format(eta), fontsize=16)            "
   ]
  },
  {
   "cell_type": "code",
   "execution_count": 34,
   "metadata": {
    "colab": {
     "base_uri": "https://localhost:8080/",
     "height": 310
    },
    "id": "UuofWfcNKpGA",
    "outputId": "0356788c-a5d6-4a03-abb9-bc036524a537"
   },
   "outputs": [
    {
     "data": {
      "image/png": "[encoded data removed]",
      "text/plain": [
       "<Figure size 720x288 with 3 Axes>"
      ]
     },
     "metadata": {
      "needs_background": "light",
      "tags": []
     },
     "output_type": "display_data"
    }
   ],
   "source": [
    "np.random.seed(42)\n",
    "\n",
    "theta_path_bgd = []\n",
    "\n",
    "theta = np.random.randn(2,1) # random initialization\n",
    "\n",
    "plt.figure(figsize=(10,4))\n",
    "\n",
    "plt.subplot(131); plot_gradient_descent(theta, eta=0.02)\n",
    "plt.ylabel(\"$y$\", rotation=0, fontsize=18)\n",
    "plt.subplot(132); plot_gradient_descent(theta, eta=0.1, theta_path=theta_path_bgd)\n",
    "plt.subplot(133); plot_gradient_descent(theta, eta=0.5)\n",
    "\n",
    "plt.show()"
   ]
  },
  {
   "cell_type": "markdown",
   "metadata": {
    "id": "zp6BGs7KK2Q0"
   },
   "source": [
    "**왼쪽 그림 : $\\eta = 0.02$**\n",
    "\n",
    "- 학습률이 너무 낮다.\n",
    "- 알고리즘은 최적점에 도달하겠지만 시간이 오래 걸릴 것이다."
   ]
  },
  {
   "cell_type": "markdown",
   "metadata": {
    "id": "m4v6ryt8OFLt"
   },
   "source": [
    "**중간 그림 : $\\eta = 0.1$**\n",
    "\n",
    "- 학습률이 적당해 보인다.\n",
    "- 반복 몇 번 만에 이미 최적점에 수렴했다."
   ]
  },
  {
   "cell_type": "markdown",
   "metadata": {
    "id": "h4Ay-TuPOPhs"
   },
   "source": [
    "**오른쪽 그림 : $\\eta = 0.5$**\n",
    "\n",
    "- 학습률이 너무 높다.\n",
    "- 알고리즘이 이리저리 널뛰면서 스텝마다 최적점에서 점점 더 멀어져 발산한다."
   ]
  },
  {
   "cell_type": "markdown",
   "metadata": {
    "id": "xoHsgsZxOceU"
   },
   "source": [
    "<br>\n",
    "\n",
    "### 4.2.2.7 적절한 학습률 찾는 방법\n",
    "\n",
    "- 적절한 학습률을 찾으려면 그리드 탐색을 사용한다.\n",
    "- 하지만 그리드 탐색에서 수렴하는 데 너무 오래 걸리는 모델을 막기 위해 반복 횟수를 제한해야 한다."
   ]
  },
  {
   "cell_type": "markdown",
   "metadata": {
    "id": "cJVIO1JTOqcE"
   },
   "source": [
    "<br>\n",
    "\n",
    "### 4.2.2.8 반복 횟수 지정 방법\n",
    "\n",
    "- 반복 횟수가 너무 작은 경우\n",
    "  - 최적점에 도달하기 전에 알고리즘이 멈춘다.\n",
    "- 반복 횟수가 너무 큰 경우\n",
    "  - 모델 파라미터가 더는 변하지 않는 동안 시간을 낭비하게 된다.\n",
    "- 해결책\n",
    "  - 반복 횟수를 아주 크게 지정하고 그래디언트 벡터가 아주 작아지면 즉, 벡터의 노름이 어떤 값 $\\varepsilon$ (허용오차, tolerance)보다 작아지면 경사 하강법이 (거의) 최솟값에 도달한 것이므로 알고리즘을 중지한다."
   ]
  },
  {
   "cell_type": "markdown",
   "metadata": {
    "id": "SRS8lKn_PSbK"
   },
   "source": [
    "<br>\n",
    "\n",
    "### 4.2.2.9 수렴율\n",
    "\n",
    "- 비용 함수가 블록 함수이고 기울기가 급격하게 바뀌지 않는 경우(ex. MSE 비용 함수), 학습률을 고정한 배치 경사 하강법은 어느 정도 시간이 걸리겠지만 결국 최적의 솔루션에 수렴할 것이다.\n",
    "- 비용 함수의 모양에 따라 달라지겠지만 $\\varepsilon$ 범위 안에서 최적의 솔루션에 도달하기 위해서는 $O(1/\\varepsilon)$ 의 **반복**이 걸릴 수 있다.\n",
    "- 다시 말해 (더 정확한 최솟값을 얻기 위해) 허용 오차 $\\varepsilon$ 을 $1/10$ 로 줄이면 알고리즘의 반복은 10배 늘어난다."
   ]
  },
  {
   "cell_type": "markdown",
   "metadata": {
    "id": "J5BC8DQoPych"
   },
   "source": [
    "<br>\n",
    "\n",
    "## 4.2.3 확률적 경사 하강법 (SGD, Stochastic Gradient Descent)"
   ]
  },
  {
   "cell_type": "markdown",
   "metadata": {
    "id": "NrMw8hGbP2h8"
   },
   "source": [
    "### 4.2.3.1 배치 경사 하강법의 문제점\n",
    "\n",
    "- 배치 경사 하강법은 매 스텝에서 전체 훈련 세트를 사용해 그래디언트를 계산한다.\n",
    "- 그러므로 훈련 세트가 커지면 매우 느려지게 된다."
   ]
  },
  {
   "cell_type": "markdown",
   "metadata": {
    "id": "NsEaFh7sUQQ3"
   },
   "source": [
    "<br>\n",
    "\n",
    "### 4.2.3.2 확률적 경사 하강법의 장점\n",
    "\n",
    "- 확률적 경사 하강법은 매 스텝에서 한 개의 샘플을 무작위로 선택하고 그 하나의 샘플에 대한 그레디언트를 계산한다.\n",
    "- 매 반복에서 다뤄야 할 데이터가 매우 적기 때문에 한 번에 하나의 샘플을 처리하면 알고리즘이 훨씬 빠르다.\n",
    "- 또한 반복에서 하나의 샘플만 메모리에 있으면 되므로 매우 큰 훈련세트도 훈련시킬 수 있다.\n",
    "  - SGD는 외부 메모리 학습 알고리즘으로 구현할 수 있다."
   ]
  },
  {
   "cell_type": "markdown",
   "metadata": {
    "id": "0frM1ASRWbRE"
   },
   "source": [
    "<img src=\"../img/Ch04/Ch04-02_004.png\" />\n",
    "\n",
    "- 위의 그림처럼 비용 함수가 매우 불규칙할 경우 알고리즘이 지역 최솟값을 건너뛸 수 있도록 도와주므로 확률적 경사 하강법이 배치 경사 하강법보다 전역 최솟값을 찾을 가능성이 높다."
   ]
  },
  {
   "cell_type": "markdown",
   "metadata": {
    "id": "rZX2ntFzUyQW"
   },
   "source": [
    "<br>\n",
    "\n",
    "### 4.2.3.3 확률적 경사 하강법의 단점\n",
    "\n",
    "- 확률적(즉, 무작위)이기 때문에 이 알고리즘은 배치 경사 하강법보다 훨씬 불안정하다.\n",
    "- 비용 함수가 최솟값에 다다를 때까지 부드럽게 감소하지 않고 위아래로 요동치면서 평균적으로 감소한다.\n",
    "- 시간이 지나면 최솟값에 매우 근접하겠지만 요동이 지속되면서 최솟값에 안착하지 못할 것 이다.\n",
    "\n",
    "<img src=\"../img/Ch04/Ch04-02_006.png\" />"
   ]
  },
  {
   "cell_type": "markdown",
   "metadata": {
    "id": "WcrQ3_SbVsyl"
   },
   "source": [
    "- 무작위성은 지역 최솟값에서 탈출시켜줘서 좋지만 알고리즘을 전역 최솟값에 다다르지 못하게 한다는 점에서는 좋지 않다."
   ]
  },
  {
   "cell_type": "markdown",
   "metadata": {
    "id": "_sXrcC2xW4wh"
   },
   "source": [
    "<br>\n",
    "\n",
    "### 4.2.3.4 학습 스케쥴 (learning schedule)\n",
    "\n",
    "- 위와 같은 딜레마를 해결하는 방법은 **학습률을 점진적으로 감소시키는 것**이다.\n",
    "  - 시작할 때는 학습률을 크게 한다.  \n",
    "  (수렴을 빠르게 하고 지역 최솟값에 빠지지 않게 한다.)\n",
    "  - 점차 학습률을 작게 줄여서 알고리즘이 전역 최솟값에 도달하게 한다.\n",
    "- 이 과정은 금속공학 분야의 **담금질 기법(simulated annealing)** 알고리즘과 유사하다.\n",
    "- 매 반복에서 학습률을 결정하는 함수를 **학습 스케쥴(learning schedule)** 이라고 부른다.\n"
   ]
  },
  {
   "cell_type": "markdown",
   "metadata": {
    "id": "8NvoVKopXc3o"
   },
   "source": [
    "- 학습률이 너무 빨리 줄어들 경우\n",
    "  - 지역 최솟값에 갇히거나 최솟값까지 가는 중간에 멈출 수 있다.\n",
    "- 학습률이 너무 천천히 줄어들 경우\n",
    "  - 오랫동안 최솟값 주변을 맴돌거나 훈련을 너무 일찍 중지해서 지역 최솟값에 머무를 수 있다."
   ]
  },
  {
   "cell_type": "markdown",
   "metadata": {
    "id": "8n19Gp2JXp8X"
   },
   "source": [
    "<br>\n",
    "\n",
    "### 4.2.3.5 학습 스케쥴을 사용한 확률적 경사 하강법 구현 및 시각화\n",
    "\n",
    "- **에포크(epoch)**\n",
    "  - 한 반복에서 훈련 세트에 있는 샘플 수(`m`) 만큼 되풀이 되고, 이때의 각 반복을 에포크라고 한다."
   ]
  },
  {
   "cell_type": "code",
   "execution_count": 35,
   "metadata": {
    "colab": {
     "base_uri": "https://localhost:8080/",
     "height": 315
    },
    "id": "cfKjklmYXwsr",
    "outputId": "92e7e488-6973-4254-d195-cbbee2477169"
   },
   "outputs": [
    {
     "name": "stdout",
     "output_type": "stream",
     "text": [
      "그림 저장: sgd_plot\n"
     ]
    },
    {
     "data": {
      "image/png": "[encoded data removed]",
      "text/plain": [
       "<Figure size 432x288 with 1 Axes>"
      ]
     },
     "metadata": {
      "needs_background": "light",
      "tags": []
     },
     "output_type": "display_data"
    }
   ],
   "source": [
    "theta_path_sgd = []\n",
    "m = len(X_b)\n",
    "np.random.seed(42)\n",
    "\n",
    "n_epochs = 50\n",
    "t0, t1 = 5, 50 # 학습 스케쥴 하이퍼파라미터\n",
    "\n",
    "def learning_schedule(t):\n",
    "    return t0 / (t + t1)\n",
    "\n",
    "theta = np.random.randn(2, 1) # 무작위 초기화\n",
    "\n",
    "for epoch in range(n_epochs):\n",
    "    for i in range(m): # 한 epoch 에서 훈련 세트에 있는 샘플 수(m)번 반복\n",
    "        if epoch == 0 and i < 20:\n",
    "            y_predict = X_new_b.dot(theta)\n",
    "            style = \"b-\" if i > 0 else \"r--\"\n",
    "            plt.plot(X_new, y_predict, style)\n",
    "        random_index = np.random.randint(m)\n",
    "        xi = X_b[random_index:random_index+1]\n",
    "        yi = y[random_index:random_index+1]\n",
    "        gradients = 2 * xi.T.dot(xi.dot(theta) - yi)\n",
    "        eta = learning_schedule(epoch * m + i)\n",
    "        theta = theta - eta * gradients\n",
    "        theta_path_sgd.append(theta)         \n",
    "\n",
    "plt.plot(X, y, \"b.\")\n",
    "plt.xlabel(\"$x_1$\", fontsize=18)\n",
    "plt.ylabel(\"$y$\", rotation=0, fontsize=18)\n",
    "plt.title('20 training steps graph', fontsize=20)\n",
    "plt.axis([0, 2, 0, 15])\n",
    "\n",
    "save_fig(\"sgd_plot\")\n",
    "\n",
    "plt.show()"
   ]
  },
  {
   "cell_type": "code",
   "execution_count": 36,
   "metadata": {
    "colab": {
     "base_uri": "https://localhost:8080/"
    },
    "id": "Wk1lM3SWYqoQ",
    "outputId": "5c18760a-acb1-4ecd-f225-6d4875712900"
   },
   "outputs": [
    {
     "data": {
      "text/plain": [
       "array([[4.21076011],\n",
       "       [2.74856079]])"
      ]
     },
     "execution_count": 36,
     "metadata": {
      "tags": []
     },
     "output_type": "execute_result"
    }
   ],
   "source": [
    "theta"
   ]
  },
  {
   "cell_type": "markdown",
   "metadata": {
    "id": "1HFLI41JYvwO"
   },
   "source": [
    "- 샘플을 무작위로 선택하기 때문에 어떤 샘플은 한 에포크에서 여러 번 선택될 수도 있고 어떤 샘플은 전혀 선택되지 못할 수도 있다.\n",
    "- 알고리즘이 에포크마다 모든 샘플을 사용하게 하려면\n",
    "훈련세트를 섞은 후(입력 특성과 레이블을 동일하게 섞어야 함)차례대로 하나씩 선택하고 그 다음 에포크에서 다시 섞는 식의 방법을 사용할 수 있다.\n",
    "  - 그러나 이렇게 하면 보통 늦게 수렴 된다."
   ]
  },
  {
   "cell_type": "markdown",
   "metadata": {
    "id": "MDZ2QbmdaFhy"
   },
   "source": [
    "<br>\n",
    "\n",
    "### 4.2.3.6 사이킷런의 `SGDRegressor`\n",
    "\n",
    "- 사이킷런에서 SGD 방식으로 선형 회귀를 사용하려면 기본값으로 제곱 오차 비용 함수를 최적화하는 `SGDRegressor` 클래스를 사용한다."
   ]
  },
  {
   "cell_type": "markdown",
   "metadata": {
    "id": "tAXDTN-XbAxx"
   },
   "source": [
    "- `max_iter=1000`\n",
    "  - 다음 코드는 최대 1,000번 에포크 동안 실행된다.\n",
    "- `tol=1e-3`\n",
    "  - 한 에포크에서 `0.001`보다 적게 손실이 줄어들 때까지 실행된다.\n",
    "- `eta0=0.1`\n",
    "  - 학습률 `0.1`로 기본 학습 스케쥴을 사용한다.\n",
    "- `penalty=None`\n",
    "  - 규제는 사용하지 않는다.\n",
    "- `learning_rate='invscaling'`\n",
    "  - `learning_rate` 은 학습 스케쥴을 의미하는 매개변수이다.\n",
    "  - 해당 매개변수의 기본값인 `invscaling` 는 반복 횟수 `t`와 `eta0.power_t` 두 매개변수를 사용한 공식으로 학습률을 계산한다.\n",
    "    - `t` 기본값 = 0.01\n",
    "    - `eta0.power_t` 기본값 = 0.25\n"
   ]
  },
  {
   "cell_type": "code",
   "execution_count": 37,
   "metadata": {
    "colab": {
     "base_uri": "https://localhost:8080/"
    },
    "id": "42e6I5ExbBVI",
    "outputId": "58e56ef6-61b2-4cd9-ca07-ac7da6e3586c"
   },
   "outputs": [
    {
     "data": {
      "text/plain": [
       "SGDRegressor(alpha=0.0001, average=False, early_stopping=False, epsilon=0.1,\n",
       "             eta0=0.1, fit_intercept=True, l1_ratio=0.15,\n",
       "             learning_rate='invscaling', loss='squared_loss', max_iter=1000,\n",
       "             n_iter_no_change=5, penalty=None, power_t=0.25, random_state=None,\n",
       "             shuffle=True, tol=0.001, validation_fraction=0.1, verbose=0,\n",
       "             warm_start=False)"
      ]
     },
     "execution_count": 37,
     "metadata": {
      "tags": []
     },
     "output_type": "execute_result"
    }
   ],
   "source": [
    "from sklearn.linear_model import SGDRegressor\n",
    "\n",
    "sgd_reg = SGDRegressor(max_iter=1000, tol=1e-3, penalty=None, eta0=0.1)\n",
    "sgd_reg.fit(X, y.ravel())"
   ]
  },
  {
   "cell_type": "code",
   "execution_count": 38,
   "metadata": {
    "colab": {
     "base_uri": "https://localhost:8080/"
    },
    "id": "p6eMDbcAbxtA",
    "outputId": "486feb59-c1bb-4257-8ad4-cba2e4f0c4da"
   },
   "outputs": [
    {
     "data": {
      "text/plain": [
       "(array([4.23868557]), array([2.82181634]))"
      ]
     },
     "execution_count": 38,
     "metadata": {
      "tags": []
     },
     "output_type": "execute_result"
    }
   ],
   "source": [
    "sgd_reg.intercept_, sgd_reg.coef_"
   ]
  },
  {
   "cell_type": "markdown",
   "metadata": {
    "id": "os5A0DyJb1c2"
   },
   "source": [
    "- 여기서도 정규방정식으로 구한 것과 매우 비슷한 값을 얻었다."
   ]
  },
  {
   "cell_type": "markdown",
   "metadata": {
    "id": "_Evqfu1Gb7H2"
   },
   "source": [
    "<br>\n",
    "\n",
    "## 4.2.4 미니배치 경사 하강법 (MGD, mini-batch gradient descent)"
   ]
  },
  {
   "cell_type": "markdown",
   "metadata": {
    "id": "Mf67lFNUcB6O"
   },
   "source": [
    "### 4.2.4.1 미니배치 활용 그래디언트 계산\n",
    "\n",
    "- **미니배치**라 부르는 임의의 작은 샘플 세트에 대해 그래디언트를 계산한다.\n",
    "- SGD 대비 장점\n",
    "  - 행렬 연산에 최적화된 하드웨어, 특히 GPU를 사용해서 얻는 성능 향상\n",
    "  - 미니배치를 어느 정도 크게 하면 이 알고리즘은 파라미터 공간에서 SGD보다 덜 불규칙하게 움직인다.\n",
    "  - 결국 미니배치 경사 하강법이 SGD보다 최솟값에 더 가까이 도달하게 될 것이다."
   ]
  },
  {
   "cell_type": "markdown",
   "metadata": {
    "id": "sai8EDj35_kv"
   },
   "source": [
    "<br>\n",
    "\n",
    "### 4.2.4.2 세 가지 경사 하강법 알고리즘 비교\n",
    "\n",
    "- 다음 그림은 세 가지 경사 하강법 알고리즘이 훈련 과정 동안 파라미터 공간에서 움직인 경로를 나타낸다."
   ]
  },
  {
   "cell_type": "code",
   "execution_count": 39,
   "metadata": {
    "id": "fLQIEV1v6b1j"
   },
   "outputs": [],
   "source": [
    "theta_path_mgd = []\n",
    "\n",
    "n_iterations = 50\n",
    "minibatch_size = 20\n",
    "\n",
    "np.random.seed(42)\n",
    "theta = np.random.randn(2,1)  # 랜덤 초기화\n",
    "\n",
    "t0, t1 = 200, 1000\n",
    "def learning_schedule(t):\n",
    "    return t0 / (t + t1)\n",
    "\n",
    "t = 0\n",
    "for epoch in range(n_iterations):\n",
    "    shuffled_indices = np.random.permutation(m)\n",
    "    X_b_shuffled = X_b[shuffled_indices]\n",
    "    y_shuffled = y[shuffled_indices]\n",
    "    for i in range(0, m, minibatch_size):\n",
    "        t += 1\n",
    "        xi = X_b_shuffled[i:i+minibatch_size]\n",
    "        yi = y_shuffled[i:i+minibatch_size]\n",
    "        gradients = 2/minibatch_size * xi.T.dot(xi.dot(theta) - yi)\n",
    "        eta = learning_schedule(t)\n",
    "        theta = theta - eta * gradients\n",
    "        theta_path_mgd.append(theta)"
   ]
  },
  {
   "cell_type": "code",
   "execution_count": 40,
   "metadata": {
    "colab": {
     "base_uri": "https://localhost:8080/"
    },
    "id": "uQ-sLMslBNKx",
    "outputId": "2e4c718c-6efe-4bf1-c126-f9651caf991c"
   },
   "outputs": [
    {
     "data": {
      "text/plain": [
       "array([[4.25214635],\n",
       "       [2.7896408 ]])"
      ]
     },
     "execution_count": 40,
     "metadata": {
      "tags": []
     },
     "output_type": "execute_result"
    }
   ],
   "source": [
    "theta"
   ]
  },
  {
   "cell_type": "code",
   "execution_count": 41,
   "metadata": {
    "id": "0VHWK0LVTy_q"
   },
   "outputs": [],
   "source": [
    "theta_path_bgd = np.array(theta_path_bgd)\n",
    "theta_path_sgd = np.array(theta_path_sgd)\n",
    "theta_path_mgd = np.array(theta_path_mgd)"
   ]
  },
  {
   "cell_type": "code",
   "execution_count": 46,
   "metadata": {
    "colab": {
     "base_uri": "https://localhost:8080/",
     "height": 315
    },
    "id": "ltjmg3BpUJTh",
    "outputId": "f393e9e1-565a-40d4-bb65-4b64bc1462b7"
   },
   "outputs": [
    {
     "name": "stdout",
     "output_type": "stream",
     "text": [
      "그림 저장: gradient_descent_paths_plot\n"
     ]
    },
    {
     "data": {
      "image/png": "[encoded data removed]",
      "text/plain": [
       "<Figure size 504x288 with 1 Axes>"
      ]
     },
     "metadata": {
      "needs_background": "light",
      "tags": []
     },
     "output_type": "display_data"
    }
   ],
   "source": [
    "plt.figure(figsize=(7,4))\n",
    "\n",
    "plt.plot(theta_path_sgd[:, 0], theta_path_sgd[:, 1], \"r-s\", linewidth=1, label=\"Stochastic\")\n",
    "plt.plot(theta_path_mgd[:, 0], theta_path_mgd[:, 1], \"g-+\", linewidth=2, label=\"Mini-batch\")\n",
    "plt.plot(theta_path_bgd[:, 0], theta_path_bgd[:, 1], \"b-o\", linewidth=3, label=\"Batch\")\n",
    "\n",
    "plt.legend(loc=\"upper left\", fontsize=16)\n",
    "plt.xlabel(r\"$\\theta_0$\", fontsize=20)\n",
    "plt.ylabel(r\"$\\theta_1$   \", fontsize=20, rotation=0)\n",
    "plt.axis([2.5, 4.5, 2.3, 3.9])\n",
    "\n",
    "save_fig(\"gradient_descent_paths_plot\")\n",
    "\n",
    "plt.show()"
   ]
  },
  {
   "cell_type": "markdown",
   "metadata": {
    "id": "BXYesLjWUPNI"
   },
   "source": [
    "- 최솟값 도달 관련\n",
    "  - 모두 최솟값 근처에 도달\n",
    "  - BGD : 실제 최솟값에서 멈춤\n",
    "  - SGD : 실제 최솟값 근처에서 맴돌고 있음\n",
    "  - MGD : 실제 최솟값 근처에서 맴돌고 있음\n",
    "- 소요 시간 관련\n",
    "  - BGD : 매 스텝에서 많은 시간이 소요됨\n",
    "  - SGD : 적절한 학습 스케쥴을 사용하면 최솟값 도달\n",
    "  - MGD : 적절한 학습 스케쥴을 사용하면 최솟값 도달"
   ]
  },
  {
   "cell_type": "markdown",
   "metadata": {
    "id": "NYyeHpx0VK4n"
   },
   "source": [
    "<br>\n",
    "\n",
    "## 4.2.5 선형 회귀를 사용한 알고리즘 비교\n",
    "\n",
    "- $m$ : 훈련 샘플 수\n",
    "- $n$ : 특성 수  \n",
    "  \n",
    "\n",
    "- 정규방정식 : 선형 회귀만을 위한 알고리즘\n",
    "- 경사 하강법 알고리즘 : 선형 회귀 이외의 여러 가지 다른 모델도 훈련시킬 수 있다.\n",
    "\n",
    "<img src=\"../img/Ch04/Ch04-02_007.png\" />\n",
    "\n",
    "- 사이킷런의 `SGDRegressor`와 `SGDClassifier`에서 `partial_fit` 메서드를 사용하여 모델 파라미터를 초기화하지 않고 미니배치 학습을 위해 반복적으로 호출할 수 있다.\n",
    "- 하지만 `partial_fit` 메서드는 `fit` 메서드와 동일하게 미니배치의 샘플을 하나씩 적용하므로 엄밀히 말하면 미니배치 경사 하강법 알고리즘은 아니다.  \n",
    "  \n",
    "\n",
    "- 위 표의 알고리즘들은 훈련 결과에 거의 차이가 없다.\n",
    "- 모두 매우 비슷한 모델을 만들고 정확히 같은 방식으로 예측한다."
   ]
  }
 ],
 "metadata": {
  "colab": {
   "collapsed_sections": [],
   "name": "Ch04-02_gradient-descent.ipynb",
   "provenance": []
  },
  "kernelspec": {
   "display_name": "Python 3",
   "language": "python",
   "name": "python3"
  },
  "language_info": {
   "codemirror_mode": {
    "name": "ipython",
    "version": 3
   },
   "file_extension": ".py",
   "mimetype": "text/x-python",
   "name": "python",
   "nbconvert_exporter": "python",
   "pygments_lexer": "ipython3",
   "version": "3.8.5"
  }
 },
 "nbformat": 4,
 "nbformat_minor": 4
}
