{
 "cells": [
  {
   "cell_type": "markdown",
   "metadata": {
    "id": "YoI1IThWKBcI"
   },
   "source": [
    "# 4.3 다항 회귀"
   ]
  },
  {
   "cell_type": "markdown",
   "metadata": {
    "id": "8mfPxCCuLPAs"
   },
   "source": [
    "## 4.3.0 설정"
   ]
  },
  {
   "cell_type": "code",
   "execution_count": 2,
   "metadata": {
    "id": "ao3GgfS6LQWT"
   },
   "outputs": [],
   "source": [
    "# 파이썬 ≥3.5 필수\n",
    "import sys\n",
    "assert sys.version_info >= (3, 5)\n",
    "\n",
    "# 사이킷런 ≥0.20 필수\n",
    "import sklearn\n",
    "assert sklearn.__version__ >= \"0.20\"\n",
    "\n",
    "# 공통 모듈 임포트\n",
    "import numpy as np\n",
    "import os\n",
    "\n",
    "# 노트북 실행 결과를 동일하게 유지하기 위해\n",
    "np.random.seed(42)\n",
    "\n",
    "# 깔끔한 그래프 출력을 위해\n",
    "%matplotlib inline\n",
    "import matplotlib as mpl\n",
    "import matplotlib.pyplot as plt\n",
    "mpl.rc('axes', labelsize=14)\n",
    "mpl.rc('xtick', labelsize=12)\n",
    "mpl.rc('ytick', labelsize=12)\n",
    "\n",
    "# 그림을 저장할 위치\n",
    "PROJECT_ROOT_DIR = \"./drive/MyDrive/Colab Notebooks\"\n",
    "CHAPTER_ID = \"training_polynomial_models\"\n",
    "IMAGES_PATH = os.path.join(PROJECT_ROOT_DIR, \"images\", CHAPTER_ID)\n",
    "os.makedirs(IMAGES_PATH, exist_ok=True)\n",
    "\n",
    "def save_fig(fig_id, tight_layout=True, fig_extension=\"png\", resolution=300):\n",
    "    path = os.path.join(IMAGES_PATH, fig_id + \".\" + fig_extension)\n",
    "    print(\"그림 저장:\", fig_id)\n",
    "    if tight_layout:\n",
    "        plt.tight_layout()\n",
    "    plt.savefig(path, format=fig_extension, dpi=resolution)"
   ]
  },
  {
   "cell_type": "markdown",
   "metadata": {
    "id": "1QL_DNiXKII-"
   },
   "source": [
    "## 4.3.1 다항 회귀 (polynomial regression)\n",
    "\n",
    "- 데이터가 단순한 직선보다 복잡한 형태(비선형 데이터 형태) 를 갖는 경우 이 데이터를 학습하는 데 선형 모델을 사용하는 것을 **다항 회귀**라고 한다.  \n",
    "  \n",
    "  \n",
    "- 선형 모델을 사용하여 비선형 데이터를 학습하는 방법\n",
    "  - 각 특성의 거듭제곱을 새로운 특성으로 추가\n",
    "  - 이 확장된 특성을 포함한 데이터셋에 선형 모델을 훈련 시킴"
   ]
  },
  {
   "cell_type": "markdown",
   "metadata": {
    "id": "g8VD5R2YS7FU"
   },
   "source": [
    "<br>\n",
    "\n",
    "## 4.3.2 다항 회귀 예시"
   ]
  },
  {
   "cell_type": "markdown",
   "metadata": {
    "id": "m5cZKm4RK9jv"
   },
   "source": [
    "### 4.3.2.1 비선형 데이터 생성\n",
    "\n",
    "- 먼저 간단한 2차 방정식(quadratic equation)으로 비선형 데이터를 생성해보자."
   ]
  },
  {
   "cell_type": "code",
   "execution_count": 3,
   "metadata": {
    "id": "mvTIxm2hLMUh"
   },
   "outputs": [],
   "source": [
    "import numpy as np\n",
    "import numpy.random as rnd\n",
    "\n",
    "np.random.seed(42)"
   ]
  },
  {
   "cell_type": "code",
   "execution_count": 4,
   "metadata": {
    "id": "zeNuvhuISdYI"
   },
   "outputs": [],
   "source": [
    "m = 100\n",
    "X = 6 * np.random.rand(m, 1) - 3\n",
    "y = 0.5 * X**2 + X + 2 + np.random.randn(m, 1)"
   ]
  },
  {
   "cell_type": "code",
   "execution_count": 8,
   "metadata": {
    "colab": {
     "base_uri": "https://localhost:8080/",
     "height": 315
    },
    "id": "CyBpwriGSpIP",
    "outputId": "bcf6c3f3-4979-45c6-ca8f-5cf33b487792"
   },
   "outputs": [
    {
     "name": "stdout",
     "output_type": "stream",
     "text": [
      "그림 저장: quadratic_data_plot\n"
     ]
    },
    {
     "data": {
      "image/png": "[encoded data removed]",
      "text/plain": [
       "<Figure size 432x288 with 1 Axes>"
      ]
     },
     "metadata": {
      "needs_background": "light",
      "tags": []
     },
     "output_type": "display_data"
    }
   ],
   "source": [
    "plt.plot(X, y, 'b.')\n",
    "\n",
    "plt.xlabel(\"$x_1$\", fontsize=18)\n",
    "plt.ylabel(\"$y$\", rotation=0, fontsize=18)\n",
    "plt.axis([-3, 3, 0, 10])\n",
    "\n",
    "save_fig(\"quadratic_data_plot\")\n",
    "\n",
    "plt.show()"
   ]
  },
  {
   "cell_type": "markdown",
   "metadata": {
    "id": "pi3Gd3zuSt1_"
   },
   "source": [
    "<br>\n",
    "\n",
    "### 4.3.2.2 훈련 데이터 변환\n",
    "\n",
    "- 사이킷런의 `PolynomialFeatures`를 사용해 훈련 데이터를 변환한다.\n",
    "  - `include_bias = True` : 편향을 위한 특성($x_1$)인 1이 추가됨\n",
    "- 훈련 세트에 있는 각 특성을 제곱(2차 다항)하여 새로운 특성을 추가한다.\n",
    "  - 여기서는 특성 하나가 추가된다."
   ]
  },
  {
   "cell_type": "code",
   "execution_count": 9,
   "metadata": {
    "id": "qKKbfaIRTie3"
   },
   "outputs": [],
   "source": [
    "from sklearn.preprocessing import PolynomialFeatures\n",
    "\n",
    "poly_features = PolynomialFeatures(degree=2, include_bias=False)\n",
    "X_poly = poly_features.fit_transform(X)"
   ]
  },
  {
   "cell_type": "code",
   "execution_count": 10,
   "metadata": {
    "colab": {
     "base_uri": "https://localhost:8080/"
    },
    "id": "2yzJNwsfT_3e",
    "outputId": "954a90c1-f57a-4ad0-8227-2f755e723f28"
   },
   "outputs": [
    {
     "data": {
      "text/plain": [
       "array([-0.75275929])"
      ]
     },
     "execution_count": 10,
     "metadata": {
      "tags": []
     },
     "output_type": "execute_result"
    }
   ],
   "source": [
    "X[0]"
   ]
  },
  {
   "cell_type": "code",
   "execution_count": 11,
   "metadata": {
    "colab": {
     "base_uri": "https://localhost:8080/"
    },
    "id": "838fm3DgUAb0",
    "outputId": "29d98cce-d561-4395-f932-4535ea8d07ee"
   },
   "outputs": [
    {
     "data": {
      "text/plain": [
       "array([-0.75275929,  0.56664654])"
      ]
     },
     "execution_count": 11,
     "metadata": {
      "tags": []
     },
     "output_type": "execute_result"
    }
   ],
   "source": [
    "X_poly[0]"
   ]
  },
  {
   "cell_type": "markdown",
   "metadata": {
    "id": "7FnqfOqYUCiE"
   },
   "source": [
    "- `X_poly` 는 이제 원래 특성 X와 이 특성의 제곱을 포함한다."
   ]
  },
  {
   "cell_type": "markdown",
   "metadata": {
    "id": "xQjii-o_UH5M"
   },
   "source": [
    "<br>\n",
    "\n",
    "### 4.3.2.3 `LinearRegression` 적용\n",
    "\n",
    "- 확장된 훈련 데이터에 `LinearRegression` 을 적용해보자."
   ]
  },
  {
   "cell_type": "code",
   "execution_count": 12,
   "metadata": {
    "colab": {
     "base_uri": "https://localhost:8080/"
    },
    "id": "4M-mkgjJUMLG",
    "outputId": "46557847-4583-497e-85bd-fdfdbc889f53"
   },
   "outputs": [
    {
     "data": {
      "text/plain": [
       "(array([1.78134581]), array([[0.93366893, 0.56456263]]))"
      ]
     },
     "execution_count": 12,
     "metadata": {
      "tags": []
     },
     "output_type": "execute_result"
    }
   ],
   "source": [
    "from sklearn.linear_model import LinearRegression\n",
    "\n",
    "lin_reg = LinearRegression()\n",
    "lin_reg.fit(X_poly, y)\n",
    "lin_reg.intercept_, lin_reg.coef_"
   ]
  },
  {
   "cell_type": "code",
   "execution_count": 17,
   "metadata": {
    "id": "JNF2AF65UedE"
   },
   "outputs": [],
   "source": [
    "X_new = np.linspace(-3, 3, 100).reshape(100, 1)\n",
    "X_new_poly = poly_features.fit_transform(X_new)\n",
    "y_new = lin_reg.predict(X_new_poly)"
   ]
  },
  {
   "cell_type": "code",
   "execution_count": 19,
   "metadata": {
    "colab": {
     "base_uri": "https://localhost:8080/",
     "height": 315
    },
    "id": "LQiBxRJjUlOD",
    "outputId": "7a0ef160-56ee-44e6-ffe7-2a83810e07fc"
   },
   "outputs": [
    {
     "name": "stdout",
     "output_type": "stream",
     "text": [
      "그림 저장: quadratic_predictions_plot\n"
     ]
    },
    {
     "data": {
      "image/png": "[encoded data removed]",
      "text/plain": [
       "<Figure size 432x288 with 1 Axes>"
      ]
     },
     "metadata": {
      "needs_background": "light",
      "tags": []
     },
     "output_type": "display_data"
    }
   ],
   "source": [
    "plt.plot(X, y, 'b.')\n",
    "plt.plot(X_new, y_new, 'r-', linewidth=2, label='Predictions')\n",
    "\n",
    "plt.xlabel(\"$x_1$\", fontsize=18)\n",
    "plt.ylabel(\"$y$\", rotation=0, fontsize=18)\n",
    "plt.legend(loc=\"upper left\", fontsize=14)\n",
    "plt.axis([-3, 3, 0, 10])\n",
    "\n",
    "save_fig(\"quadratic_predictions_plot\")\n",
    "\n",
    "plt.show()"
   ]
  },
  {
   "cell_type": "markdown",
   "metadata": {
    "id": "1ZL6RUhKU7VC"
   },
   "source": [
    "<br>\n",
    "\n",
    "### 4.3.2.4 함수 비교\n",
    "\n",
    "- 실제 원래 함수\n",
    "\n",
    "$\n",
    "\\qquad\n",
    "y = 0.5 x_1^2 + 1.0 x_1 + 2.0 + \\text{가우시안 잡음}\n",
    "$\n",
    "\n",
    "<br>\n",
    "\n",
    "- 예측된 모델\n",
    "\n",
    "$\n",
    "\\qquad\n",
    "\\hat{y} = 0.56 x_1^2 + 0.93 x_1 + 1.78\n",
    "$"
   ]
  },
  {
   "cell_type": "markdown",
   "metadata": {
    "id": "4oDkxipGVvch"
   },
   "source": [
    "<br>\n",
    "\n",
    "## 4.3.3 특성 사이의 관계\n",
    "\n",
    "- 특성이 여러 개일 때 다항 회귀는 이 특성 사이의 관계를 찾을 수 있다.\n",
    "  - 일반적인 선형 회귀 모델에서는 하지 못함\n",
    "- `PolynomialFeatures`가 주어진 차수까지 특성 간의 모든 교차항을 추가한다.\n",
    "- ex) 두 개의 특성 $a$, $b$ 가 있을 때 `degree=3`으로 적용할 경우\n",
    "  - $a^2$, $a^3$, $b^2$, $b^3$\n",
    "  - $ab$, $a^2b$, $ab^2$ 도 구함"
   ]
  }
 ],
 "metadata": {
  "colab": {
   "collapsed_sections": [],
   "name": "Ch04-03_polynomial-regression.ipynb",
   "provenance": []
  },
  "kernelspec": {
   "display_name": "Python 3",
   "language": "python",
   "name": "python3"
  },
  "language_info": {
   "codemirror_mode": {
    "name": "ipython",
    "version": 3
   },
   "file_extension": ".py",
   "mimetype": "text/x-python",
   "name": "python",
   "nbconvert_exporter": "python",
   "pygments_lexer": "ipython3",
   "version": "3.8.5"
  }
 },
 "nbformat": 4,
 "nbformat_minor": 4
}
