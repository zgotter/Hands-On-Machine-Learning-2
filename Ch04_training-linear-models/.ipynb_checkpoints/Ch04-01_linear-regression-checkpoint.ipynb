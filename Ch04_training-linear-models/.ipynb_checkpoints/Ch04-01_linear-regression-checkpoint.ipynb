{
 "cells": [
  {
   "cell_type": "markdown",
   "metadata": {
    "id": "P3rW7WXpPN4Z"
   },
   "source": [
    "# 4.1 선형 회귀"
   ]
  },
  {
   "cell_type": "markdown",
   "metadata": {
    "id": "Qa3ZNh2h2UjP"
   },
   "source": [
    "## 4.1.0 설정"
   ]
  },
  {
   "cell_type": "code",
   "execution_count": 1,
   "metadata": {
    "id": "h9rZQHtq2XcD"
   },
   "outputs": [],
   "source": [
    "# 파이썬 ≥3.5 필수\n",
    "import sys\n",
    "assert sys.version_info >= (3, 5)\n",
    "\n",
    "# 사이킷런 ≥0.20 필수\n",
    "import sklearn\n",
    "assert sklearn.__version__ >= \"0.20\"\n",
    "\n",
    "# 공통 모듈 임포트\n",
    "import numpy as np\n",
    "import os\n",
    "\n",
    "# 노트북 실행 결과를 동일하게 유지하기 위해\n",
    "np.random.seed(42)\n",
    "\n",
    "# 깔끔한 그래프 출력을 위해\n",
    "%matplotlib inline\n",
    "import matplotlib as mpl\n",
    "import matplotlib.pyplot as plt\n",
    "mpl.rc('axes', labelsize=14)\n",
    "mpl.rc('xtick', labelsize=12)\n",
    "mpl.rc('ytick', labelsize=12)\n",
    "\n",
    "# 그림을 저장할 위치\n",
    "PROJECT_ROOT_DIR = \"./drive/MyDrive/Colab Notebooks\"\n",
    "CHAPTER_ID = \"training_linear_models\"\n",
    "IMAGES_PATH = os.path.join(PROJECT_ROOT_DIR, \"images\", CHAPTER_ID)\n",
    "os.makedirs(IMAGES_PATH, exist_ok=True)\n",
    "\n",
    "def save_fig(fig_id, tight_layout=True, fig_extension=\"png\", resolution=300):\n",
    "    path = os.path.join(IMAGES_PATH, fig_id + \".\" + fig_extension)\n",
    "    print(\"그림 저장:\", fig_id)\n",
    "    if tight_layout:\n",
    "        plt.tight_layout()\n",
    "    plt.savefig(path, format=fig_extension, dpi=resolution)"
   ]
  },
  {
   "cell_type": "markdown",
   "metadata": {
    "id": "evzDchtMVXEb"
   },
   "source": [
    "## 4.1.1 삶의 만족도에 대한 간단한 선형 회귀 모델\n",
    "\n",
    "<br>\n",
    "\n",
    "$\n",
    "\\qquad \\text{삶의 만족도} = \\theta_0 + \\theta_1 \\times \\text{1인당_GDP}\n",
    "$\n",
    "\n",
    "<br>\n",
    "\n",
    "- 위 모델은 입력 특성인 `1인당_GDP`에 대한 선형 함수이다.\n",
    "- 모델의 파라미터 : $\\theta_0$, $\\theta_1$"
   ]
  },
  {
   "cell_type": "markdown",
   "metadata": {
    "id": "PWKrfr-LWQoo"
   },
   "source": [
    "<br>\n",
    "\n",
    "## 4.1.2 일반적인 선형 회귀 모델의 예측\n",
    "\n",
    "- 아래의 식에서처럼 입력 특성의 가중치 합과 **편향(bias)**(또는 **절편(intercept)**)이라는 상수를 더해 예측을 만든다.\n",
    "\n",
    "<br>\n",
    "\n",
    "$\n",
    "\\qquad \\hat{y} = \\theta_0 + \\theta_1 x_1 + \\theta_2 x_2 + \\cdots + \\theta_n x_n\n",
    "$\n",
    "\n",
    "<br>\n",
    "\n",
    "- $\\hat{y}$ : 예측값\n",
    "- $n$ : 특성의 수\n",
    "- $x_i$ : $i$번 째 특성값\n",
    "- $\\theta_j$ : $j$번 째 모델 파라미터 (편향 $\\theta_0$와 특성의 가중치 $\\theta_1, \\theta_2, \\cdots, \\theta_n$ 을 포함)"
   ]
  },
  {
   "cell_type": "markdown",
   "metadata": {
    "id": "DFK9IF8GXxbt"
   },
   "source": [
    "<br>\n",
    "\n",
    "- 위의 식은 다음 처럼 벡터 형태로 더 간단하게 쓸 수 있다.\n",
    "\n",
    "<br>\n",
    "\n",
    "$\n",
    "\\qquad\n",
    "\\hat{y} = h_{\\theta} \\left( \\mathbf{x} \\right) = \\mathbf{\\theta} \\cdot \\mathbf{x}\n",
    "$\n",
    "\n",
    "<br>\n",
    "\n",
    "- $\\mathbf{\\theta}$\n",
    "  - 편향 $\\theta_0$과 $\\theta_1$ 에서 $\\theta_n$ 까지의 특성 가중치를 담은 모델의 파라미터 벡터\n",
    "- $\\mathbf{x}$\n",
    "  - $x_0$ 에서 $x_n$ 까지 담은 샘플의 **특성 벡터**\n",
    "  - $x_0$는 항상 1이다.\n",
    "- $\\mathbf{\\theta} \\cdot \\mathbf{x}$\n",
    "  - 벡터 $\\mathbf{\\theta}$ 와 $\\mathbf{x}$ 의 점곱\n",
    "  - 이는 $\\theta_0 x_0 + \\theta_1 x_1 + \\theta_2 x_2 + \\cdots + \\theta_n x_n$ 와 같다.\n",
    "-  $h_{\\theta}$\n",
    "  - 모델 파라미터 $\\theta$를 사용한 가설(hypothesis) 함수"
   ]
  },
  {
   "cell_type": "markdown",
   "metadata": {
    "id": "0IYi4459bKSG"
   },
   "source": [
    "<br>\n",
    "\n",
    "## 4.1.3 회귀 모델 성능 측정 지표\n",
    "\n",
    "- 회귀에서 가장 널리 사용되는 성능 측정 지표 : 평균 제곱근 오차(RMSE)\n",
    "- 선형 회귀 모델을 훈련 시키려면 RMSE를 최소화하는 $\\mathbf{\\theta}$를찾아야 한다.\n",
    "- 실제로는 RMSE 보다 평균 제곱 오차(MSE)를 최소화하는 것이 같은 결과를 내면서 더 간단하다.\n",
    "  - 최종 모델을 평가하는 데 사용하는 성능 측정 지표 말고 학습 알고리즘이 다른 함수를 최적화하는 경우가 종종 있다.\n",
    "  - 이런 함수들은 다음과 같은 이유로 사용된다.\n",
    "     - 일반적으로 성능 측정 지표에는 없는 유용한 미분 특성이 있어서 이런 함수가 계산하기 더 쉬움\n",
    "     - 훈련하는 동안 모델에 제약을 가하기 위해 사용"
   ]
  },
  {
   "cell_type": "markdown",
   "metadata": {
    "id": "bUCn4l7BcKDS"
   },
   "source": [
    "- 훈련 세트 $\\mathbf{X}$ 에 대한 선형 회귀 가설 $h_\\theta$ 의 MSE 는 다음 식(선형 회귀 모델의 MSE 비용 함수)처럼 계산한다.\n",
    "\n",
    "<br>\n",
    "\n",
    "$\n",
    "\\qquad\n",
    "MSE \\left( \\mathbf{X}, h_\\theta \\right) = \n",
    "\\frac{1}{m} \\sum_{i=1}^m \\left( \\theta^T \\mathbf{x}^{(i)} - y^{(i)} \\right)^2\n",
    "$\n",
    "\n",
    "<br>\n",
    "\n",
    "- 모델이 파라미터 벡터 $\\mathbf{\\theta}$를 가진다는 것을 명확히 하려고 $h$ 대신 $h_\\theta$를 사용했다.\n",
    "- 간단하게 표시하기 위해 $MSE\\left(\\mathbf{X}, h_\\theta\\right)$ 대신 $MSE\\left(\\mathbf{\\theta}\\right)$ 라고 쓴다."
   ]
  },
  {
   "cell_type": "markdown",
   "metadata": {
    "id": "v0sp6EvOwqf5"
   },
   "source": [
    "<br>\n",
    "\n",
    "## 4.1.4 정규방정식\n",
    "\n",
    "- 비용 함수를 최소화하는 $\\mathbf{\\theta}$ 값을 찾기 위한 **해석적인 방법**(결과를 얻을 수 있는 수학 공식)이 있다.\n",
    "- 이를 **정규방정식(normal equation)**이라고 한다.\n",
    "\n",
    "<br>\n",
    "\n",
    "$\n",
    "\\qquad\n",
    "\\hat{\\mathbf{\\theta}} = \n",
    "\\left( \\mathbf{X}^T \\mathbf{X} \\right)^{-1} \\mathbf{X}^T \\mathbf{y}\n",
    "$\n",
    "\n",
    "<br>\n",
    "\n",
    "- $\\hat{\\mathbf{\\theta}}$\n",
    "  - 비용 함수를 최소화하는 $\\mathbf{\\theta}$ 값\n",
    "- $\\mathbf{y}$\n",
    "  - $\\mathbf{y}^{(1)}$ 부터 $\\mathbf{y}^{(m)}$ 까지 포함하는 타깃 벡터"
   ]
  },
  {
   "cell_type": "markdown",
   "metadata": {
    "id": "B35OGImw0yoE"
   },
   "source": [
    "<br>\n",
    "\n",
    "### 4.1.4.1 선형 데이터 생성\n",
    "\n",
    "- 이 공식을 테스트하기 위해 선형처럼 보이는 데이터를 생성해보자."
   ]
  },
  {
   "cell_type": "code",
   "execution_count": 2,
   "metadata": {
    "id": "x_cef2E903tw"
   },
   "outputs": [],
   "source": [
    "import numpy as np\n",
    "\n",
    "# np.random.rand(m,n) : 0~1의 균일분포 표준정규분포 난수 생성 (m행 n열)\n",
    "X = 2 * np.random.rand(100, 1)\n",
    "\n",
    "# np.random.randn(m,n) : 평균 0, 표준편차 1의 가우시안 표준정규분포 난수 생성 (m행 n열)\n",
    "y = 4 + 3 * X + np.random.randn(100, 1)"
   ]
  },
  {
   "cell_type": "code",
   "execution_count": 3,
   "metadata": {
    "colab": {
     "base_uri": "https://localhost:8080/"
    },
    "id": "2as8Q0nP8M0A",
    "outputId": "4cbca9c3-0a07-4c60-b063-4d0ffc771d60"
   },
   "outputs": [
    {
     "data": {
      "text/plain": [
       "(100, 1)"
      ]
     },
     "execution_count": 3,
     "metadata": {
      "tags": []
     },
     "output_type": "execute_result"
    }
   ],
   "source": [
    "X.shape"
   ]
  },
  {
   "cell_type": "code",
   "execution_count": 4,
   "metadata": {
    "colab": {
     "base_uri": "https://localhost:8080/"
    },
    "id": "HLHnRuqj8SB_",
    "outputId": "751ff07f-705c-435f-b3eb-41e395cd3721"
   },
   "outputs": [
    {
     "data": {
      "text/plain": [
       "(100, 1)"
      ]
     },
     "execution_count": 4,
     "metadata": {
      "tags": []
     },
     "output_type": "execute_result"
    }
   ],
   "source": [
    "y.shape"
   ]
  },
  {
   "cell_type": "code",
   "execution_count": 5,
   "metadata": {
    "colab": {
     "base_uri": "https://localhost:8080/",
     "height": 315
    },
    "id": "UFR49QeQ0-Zo",
    "outputId": "82a746db-0a7c-4c27-8110-7b63e521b4fe"
   },
   "outputs": [
    {
     "name": "stdout",
     "output_type": "stream",
     "text": [
      "그림 저장: generated_data_plot\n"
     ]
    },
    {
     "data": {
      "image/png": "[encoded data removed]",
      "text/plain": [
       "<Figure size 432x288 with 1 Axes>"
      ]
     },
     "metadata": {
      "needs_background": "light",
      "tags": []
     },
     "output_type": "display_data"
    }
   ],
   "source": [
    "plt.plot(X, y, 'b.')\n",
    "plt.xlabel('$x_1$', fontsize=18)\n",
    "plt.ylabel('$y$', rotation=0, fontsize=18)\n",
    "plt.axis([0, 2, 0, 15])\n",
    "\n",
    "save_fig('generated_data_plot')\n",
    "\n",
    "plt.show()"
   ]
  },
  {
   "cell_type": "markdown",
   "metadata": {
    "id": "JTwS1Tqr2cth"
   },
   "source": [
    "<br>\n",
    "\n",
    "### 4.1.4.2 $\\hat{\\mathbf{\\theta}}$ 계산\n",
    "\n",
    "- 정규방정식을 사용해 $\\hat{\\mathbf{\\theta}}$ 을 계산해보자.\n",
    "- 넘파이 선형대수 모듈(`np.linalg`)\n",
    "  - `inv()` : 역행렬을 계산\n",
    "  - `dot()` : 행렬 곱셈"
   ]
  },
  {
   "cell_type": "code",
   "execution_count": 6,
   "metadata": {
    "colab": {
     "base_uri": "https://localhost:8080/"
    },
    "id": "ph4ugdA37A_Q",
    "outputId": "7d976c76-9817-43e1-d052-fb7426192a12"
   },
   "outputs": [
    {
     "data": {
      "text/plain": [
       "(100, 2)"
      ]
     },
     "execution_count": 6,
     "metadata": {
      "tags": []
     },
     "output_type": "execute_result"
    }
   ],
   "source": [
    "X_b = np.c_[np.ones((100, 1)), X] # 모든 샘플에 x0 = 1 을 추가 (100행 1열)\n",
    "X_b.shape"
   ]
  },
  {
   "cell_type": "code",
   "execution_count": 7,
   "metadata": {
    "id": "PgRnwr8f8sZY"
   },
   "outputs": [],
   "source": [
    "theta_best = np.linalg.inv(X_b.T.dot(X_b)).dot(X_b.T).dot(y)"
   ]
  },
  {
   "cell_type": "markdown",
   "metadata": {
    "id": "LdIGbzgG8g7F"
   },
   "source": [
    "- 이 데이터를 생성하기 위해 사용함 함수는 다음과 같다.\n",
    "\n",
    "$\n",
    "\\qquad\n",
    "y = 4 + 3x_1 + \\text{가우시안_잡음}\n",
    "$\n",
    "\n",
    "- 정규방정식으로 계산한 값을 확인해보자."
   ]
  },
  {
   "cell_type": "code",
   "execution_count": 8,
   "metadata": {
    "colab": {
     "base_uri": "https://localhost:8080/"
    },
    "id": "Wkx3Fbx07Qfp",
    "outputId": "4c611814-3d65-4c93-ffb0-5137a28505d4"
   },
   "outputs": [
    {
     "data": {
      "text/plain": [
       "array([[4.21509616],\n",
       "       [2.77011339]])"
      ]
     },
     "execution_count": 8,
     "metadata": {
      "tags": []
     },
     "output_type": "execute_result"
    }
   ],
   "source": [
    "theta_best"
   ]
  },
  {
   "cell_type": "code",
   "execution_count": 9,
   "metadata": {
    "colab": {
     "base_uri": "https://localhost:8080/"
    },
    "id": "gVsFrKNY-rAP",
    "outputId": "c4722d81-2a59-43bb-a287-057851d5b5ac"
   },
   "outputs": [
    {
     "data": {
      "text/plain": [
       "(2, 1)"
      ]
     },
     "execution_count": 9,
     "metadata": {
      "tags": []
     },
     "output_type": "execute_result"
    }
   ],
   "source": [
    "theta_best.shape"
   ]
  },
  {
   "cell_type": "markdown",
   "metadata": {
    "id": "kTPisy-68WWF"
   },
   "source": [
    "- 기대값\n",
    "  - $\\theta_0 = 4$\n",
    "  - $\\theta_1 = 3$\n",
    "- 계산된 값\n",
    "  - $\\theta_0 = 4.215$\n",
    "  - $\\theta_1 = 2.770$\n",
    "- 매우 비슷하지만 잡음 때문에 원래 함수의 파라미터를 정확하게 재현하지 못했다."
   ]
  },
  {
   "cell_type": "markdown",
   "metadata": {
    "id": "y-DNoaLO-GrS"
   },
   "source": [
    "<br>\n",
    "\n",
    "### 4.1.4.3 $\\hat{\\mathbf{\\theta}}$ 사용 예측"
   ]
  },
  {
   "cell_type": "code",
   "execution_count": 10,
   "metadata": {
    "colab": {
     "base_uri": "https://localhost:8080/"
    },
    "id": "2UkhbQFT-R9z",
    "outputId": "ad018aca-fe28-40ae-95c1-c0098050419b"
   },
   "outputs": [
    {
     "data": {
      "text/plain": [
       "array([[4.21509616],\n",
       "       [9.75532293]])"
      ]
     },
     "execution_count": 10,
     "metadata": {
      "tags": []
     },
     "output_type": "execute_result"
    }
   ],
   "source": [
    "X_new = np.array([[0], [2]])\n",
    "X_new_b = np.c_[np.ones((2,1)), X_new]\n",
    "y_predict = X_new_b.dot(theta_best) # 2x2 2x1 == 2x1\n",
    "y_predict"
   ]
  },
  {
   "cell_type": "code",
   "execution_count": 11,
   "metadata": {
    "colab": {
     "base_uri": "https://localhost:8080/"
    },
    "id": "_4NYSWsW-x9Q",
    "outputId": "3c9815ab-0715-43cc-cee6-37fd27307c6e"
   },
   "outputs": [
    {
     "data": {
      "text/plain": [
       "(2, 1)"
      ]
     },
     "execution_count": 11,
     "metadata": {
      "tags": []
     },
     "output_type": "execute_result"
    }
   ],
   "source": [
    "y_predict.shape"
   ]
  },
  {
   "cell_type": "markdown",
   "metadata": {
    "id": "4PJxBNu_-2tH"
   },
   "source": [
    "- 모델의 예측 시각화"
   ]
  },
  {
   "cell_type": "code",
   "execution_count": 12,
   "metadata": {
    "colab": {
     "base_uri": "https://localhost:8080/",
     "height": 315
    },
    "id": "yiOraI4M-6Vy",
    "outputId": "2e66c73c-8ea8-49fb-9932-25ca29971944"
   },
   "outputs": [
    {
     "name": "stdout",
     "output_type": "stream",
     "text": [
      "그림 저장: linear_model_predictions_plot\n"
     ]
    },
    {
     "data": {
      "image/png": "[encoded data removed]",
      "text/plain": [
       "<Figure size 432x288 with 1 Axes>"
      ]
     },
     "metadata": {
      "needs_background": "light",
      "tags": []
     },
     "output_type": "display_data"
    }
   ],
   "source": [
    "plt.plot(X_new, y_predict, 'r-', linewidth=2, label='Predictions')\n",
    "plt.plot(X, y, 'b.')\n",
    "plt.xlabel(\"$x_1$\", fontsize=18)\n",
    "plt.ylabel(\"$y$\", rotation=0, fontsize=18)\n",
    "plt.legend(loc=\"upper left\", fontsize=14)\n",
    "plt.axis([0, 2, 0, 15])\n",
    "\n",
    "save_fig(\"linear_model_predictions_plot\")\n",
    "\n",
    "plt.show()"
   ]
  },
  {
   "cell_type": "markdown",
   "metadata": {
    "id": "Xfq0RXPQ-8vn"
   },
   "source": [
    "<br>\n",
    "\n",
    "### 4.1.4.4 사이킷런 선형 회귀 수행\n",
    "\n",
    "- 사이킷런에서 선형 회귀를 수행하는 것은 간단하다.\n",
    "- 사이킷런은 특성의 가중치(`coef_`)와 편향(`intercept_`)을 분리하여 저장한다."
   ]
  },
  {
   "cell_type": "code",
   "execution_count": 13,
   "metadata": {
    "colab": {
     "base_uri": "https://localhost:8080/"
    },
    "id": "neNdRMSs_aEl",
    "outputId": "3c58d99b-cc04-447f-82f5-4cb7478fe120"
   },
   "outputs": [
    {
     "data": {
      "text/plain": [
       "(array([[2.77011339]]), array([4.21509616]))"
      ]
     },
     "execution_count": 13,
     "metadata": {
      "tags": []
     },
     "output_type": "execute_result"
    }
   ],
   "source": [
    "from sklearn.linear_model import LinearRegression\n",
    "\n",
    "lin_reg = LinearRegression()\n",
    "lin_reg.fit(X, y)\n",
    "lin_reg.coef_, lin_reg.intercept_"
   ]
  },
  {
   "cell_type": "code",
   "execution_count": 14,
   "metadata": {
    "colab": {
     "base_uri": "https://localhost:8080/"
    },
    "id": "cI9ivBpS_kIO",
    "outputId": "60276d70-dbe5-4709-cca8-a12bd69d859b"
   },
   "outputs": [
    {
     "data": {
      "text/plain": [
       "array([[4.21509616],\n",
       "       [9.75532293]])"
      ]
     },
     "execution_count": 14,
     "metadata": {
      "tags": []
     },
     "output_type": "execute_result"
    }
   ],
   "source": [
    "lin_reg.predict(X_new)"
   ]
  },
  {
   "cell_type": "markdown",
   "metadata": {
    "id": "CNsiteWN_nJl"
   },
   "source": [
    "<br>\n",
    "\n",
    "### 4.1.4.5 유사역행렬\n",
    "\n",
    "- `LinearRegression` 클래스는 `scipy.linalg.lstsq()` 함수(최소 제곱(least squares)에서 이름을 따옴)를 기반으로 한다.\n",
    "- 이 함수를 직접 호출할 수 있다."
   ]
  },
  {
   "cell_type": "code",
   "execution_count": 15,
   "metadata": {
    "colab": {
     "base_uri": "https://localhost:8080/"
    },
    "id": "kjkHtwce_1F9",
    "outputId": "25c4c479-9944-4aa2-f4e4-ef487e175761"
   },
   "outputs": [
    {
     "data": {
      "text/plain": [
       "array([[4.21509616],\n",
       "       [2.77011339]])"
      ]
     },
     "execution_count": 15,
     "metadata": {
      "tags": []
     },
     "output_type": "execute_result"
    }
   ],
   "source": [
    "# 싸이파이 lstsq() 함수를 사용하려면 scipy.linalg.lstsq(X_b, y) 와 같이 쓴다.\n",
    "theta_best_svd, residuals, rank, s = np.linalg.lstsq(X_b, y, rcond=1e-6)\n",
    "theta_best_svd"
   ]
  },
  {
   "cell_type": "markdown",
   "metadata": {
    "id": "jZ-j910x_9LN"
   },
   "source": [
    "- 이 함수는 다음 수식을 계산한다.\n",
    "\n",
    "<br>\n",
    "\n",
    "$\n",
    "\\qquad\n",
    "\\hat{\\mathbf{\\theta}} = \\mathbf{X}^{+} \\mathbf{y}\n",
    "$\n",
    "\n",
    "<br>\n",
    "\n",
    "- $\\mathbf{X}^{+}$\n",
    "  - $\\mathbf{X}$의 **유사역행렬(pseudoinverse)**\n",
    "  - 정확하게는 무어-펜로즈(Moore-Penrose) 역행렬"
   ]
  },
  {
   "cell_type": "markdown",
   "metadata": {
    "id": "rWaSSv36BAFx"
   },
   "source": [
    "- `np.linalg.pinv()` 함수를 사용해 유사역행렬을 직접 구할 수 있다."
   ]
  },
  {
   "cell_type": "code",
   "execution_count": 16,
   "metadata": {
    "colab": {
     "base_uri": "https://localhost:8080/"
    },
    "id": "udSRANLJAyIc",
    "outputId": "ffafda33-1332-4b67-d575-dbf2087257d2"
   },
   "outputs": [
    {
     "data": {
      "text/plain": [
       "array([[4.21509616],\n",
       "       [2.77011339]])"
      ]
     },
     "execution_count": 16,
     "metadata": {
      "tags": []
     },
     "output_type": "execute_result"
    }
   ],
   "source": [
    "np.linalg.pinv(X_b).dot(y)"
   ]
  },
  {
   "cell_type": "markdown",
   "metadata": {
    "id": "Jybe1Y0OA00M"
   },
   "source": [
    "<br>\n",
    "\n",
    "### 4.1.4.6 특이값 분해 (SVD)\n",
    "\n",
    "- 유사역행렬 자체는 **특이값 분해(singular value decomposition(SVD)**라 부르는 표준 행렬 분해 기법을 사용해 계산된다.\n",
    "  - SVD는 훈련 세트 행렬 $\\mathbf{X}$를 3개의 행렬 곱셈 $\\mathbf{U} \\sum \\mathbf{V}^T$ 로 분해한다. (`numpy.linalg.svd()` 참고)\n",
    "- 유사역행렬은 다음과 같이 계산된다.\n",
    "\n",
    "$\n",
    "\\qquad\n",
    "\\mathbf{X}^+ = \\mathbf{V} \\sum^+ \\mathbf{U}^T\n",
    "$\n",
    "\n",
    "- $\\sum^+$ 를 계산하기 위해 알고리즘이 $\\sum$ 를 먼저 구하고 그다음 어떤 낮은 임곗값보다 작은 모든 수를 0으로 바꾼다.\n",
    "- 그다음 0이 아닌 모든 값을 역수로 치환한다.\n",
    "- 마지막으로 만들어진 행렬을 전치한다."
   ]
  },
  {
   "cell_type": "markdown",
   "metadata": {
    "id": "MhJ2x2AAIU-F"
   },
   "source": [
    "- 정규방정식을 계산하는 것보다 이 방식이 훨씬 효율적이다.\n",
    "- 또한 극단적인 경우도 처리할 수 있다.\n",
    "  - 실제로 $m < n$ 이거나 어떤 특성이 중복되어 행렬 $\\mathbf{X}^T \\mathbf{X}$의 역행렬이 없다면(즉, 특이 행렬이라면) 정규방정식이 작동하지 않는다.\n",
    "  - 하지만 유사역행렬은 항상 구할 수 있다."
   ]
  },
  {
   "cell_type": "markdown",
   "metadata": {
    "id": "cO4z7nX_Ia_k"
   },
   "source": [
    "<br>\n",
    "\n",
    "## 4.1.5 계산 복잡도\n",
    "\n",
    "- 정규방정식은 $(n+1) \\times (n+1)$ 크기가 되는 $\\mathbf{X}^T \\mathbf{X}$ 의 역행렬을 계산한다 ($n$ : 특성 수)\n",
    "- 역행렬을 계산하는 **계산 복잡도(computational complexity)**는 일반적으로 $O(n^{2.4})$ 에서 $O(n^{3})$ 사이이다. (구현 방법에 따라 차이가 있음)\n",
    "- 다시 말해 특성 수가 두 배로 늘어나면 계산 시간은 대략 $2^{2.4} = 5.3$ 에서 $2^3 = 8$ 배로 증가한다.\n"
   ]
  },
  {
   "cell_type": "markdown",
   "metadata": {
    "id": "OMkAiRamJTE6"
   },
   "source": [
    "- 사이킷런의 `LinearRegression` 클래스가 사용하는 SVD 방법은 약 $O(n^2)$ 이다.\n",
    "- 특성의 개수가 두 배로 늘어나면 계산 시간이 대략 4배가 된다."
   ]
  },
  {
   "cell_type": "markdown",
   "metadata": {
    "id": "yMS2pTd8J6md"
   },
   "source": [
    "- 정규방정식과 SVD 방법 모두 특성 수가 많아지면 매우 느려진다.\n",
    "- 하지만 훈련 세트의 샘플 수에 대해서는 선형적으로 증가한다.\n",
    "  - $O(m)$\n",
    "  - $\\mathbf{X}$ : `(샘플 수, 특성 수)`인 `mxn` 행렬\n",
    "  - $\\mathbf{X}^T \\mathbf{X}$ : `(nxm)(mxn) = (nxn)` 크기의 행렬\n",
    "  - 따라서 샘플 수(`m`)가 역행렬의 계산 복잡도를 증가시키지 않고 점곱의 양만 선형적으로 증가시킨다.\n",
    "- 따라서 메모리 공간이 허락된다면 큰 훈련 세트도 효율적으로 처리할 수 있다."
   ]
  },
  {
   "cell_type": "markdown",
   "metadata": {
    "id": "a_ENcaW-jVj6"
   },
   "source": [
    "- (정규방정식이나 다른 알고리즘으로) 학습된 선형 회귀 모델은 예측이 매우 빠르다.\n",
    "- 예측 계산 복잡도는 샘플 수와 특성 수에 선형적이다.\n",
    "  - 예측하려는 샘플이 두 배로 늘어나면(또는 특성이 두 배로 늘어나면) 걸리는 시간도 거의 두 배 증가한다."
   ]
  },
  {
   "cell_type": "markdown",
   "metadata": {
    "id": "gKD33GCOkBvD"
   },
   "source": [
    "- 다음 절에서 학습하는 **경사 하강법**은 아주 다른 방법으로 선형 회귀 모델을 훈련시킨다.\n",
    "- 이 방법은 특성이 매우 많고 훈련 샘플이 너무 많아 메모리에 모두 담을 수 없을 때 적합하다."
   ]
  }
 ],
 "metadata": {
  "colab": {
   "collapsed_sections": [],
   "name": "Ch04-01_linear-regression.ipynb",
   "provenance": []
  },
  "kernelspec": {
   "display_name": "Python 3",
   "language": "python",
   "name": "python3"
  },
  "language_info": {
   "codemirror_mode": {
    "name": "ipython",
    "version": 3
   },
   "file_extension": ".py",
   "mimetype": "text/x-python",
   "name": "python",
   "nbconvert_exporter": "python",
   "pygments_lexer": "ipython3",
   "version": "3.8.5"
  }
 },
 "nbformat": 4,
 "nbformat_minor": 4
}
