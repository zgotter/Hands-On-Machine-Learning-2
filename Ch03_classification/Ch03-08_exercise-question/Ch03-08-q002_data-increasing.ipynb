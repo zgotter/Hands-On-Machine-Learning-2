{
 "cells": [
  {
   "cell_type": "markdown",
   "metadata": {},
   "source": [
    "# 3.8 연습 문제"
   ]
  },
  {
   "cell_type": "markdown",
   "metadata": {},
   "source": [
    "## 문제 2\n",
    "\n",
    "MNIST 이미지를 (왼쪽, 오른쪽, 위쪽, 아래쪽) 어느 방향으로든 한 픽셀 이동시킬 수 있는 함수를 만들어보자.  \n",
    "그런 다음 훈련 세트에 있는 각 이미지에 대해 네 개의 이동된 복사본(방향마다 한 개씩)을 만들어 훈련 세트에 추가한다.  \n",
    "마지막으로 이 확장된 데이터셋에서 문제 1 에서 찾은 최선의 모델을 훈련시키고 테스트 세트에서 정확도를 평가해봐서 모델 성능이 더 높아졌는 지 확인해보자.  \n",
    "이렇게 인위적으로 훈련 세트를 늘리는 기법을 **데이터 증식** 또는 **훈련 세트 확장(training set expansion)**이라고 한다.\n",
    "\n",
    "\n",
    "**힌트**\n",
    "\n",
    "- 이미지 픽셀 이동은 `scipy.ndimage.interpolation` 모듈의 `shift()` 함수를 사용할 수 있다.\n",
    "  - ex) `shift(image, [2, 1], cval=0)` : 아래로 2픽셀, 오른쪽으로 1픽셀 이동"
   ]
  },
  {
   "cell_type": "code",
   "execution_count": null,
   "metadata": {},
   "outputs": [],
   "source": []
  }
 ],
 "metadata": {
  "kernelspec": {
   "display_name": "Python 3",
   "language": "python",
   "name": "python3"
  },
  "language_info": {
   "codemirror_mode": {
    "name": "ipython",
    "version": 3
   },
   "file_extension": ".py",
   "mimetype": "text/x-python",
   "name": "python",
   "nbconvert_exporter": "python",
   "pygments_lexer": "ipython3",
   "version": "3.6.9"
  }
 },
 "nbformat": 4,
 "nbformat_minor": 4
}
