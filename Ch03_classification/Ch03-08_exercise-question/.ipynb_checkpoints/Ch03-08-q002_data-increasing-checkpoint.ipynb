{
 "cells": [
  {
   "cell_type": "markdown",
   "metadata": {
    "id": "WSPtV5U23IFT"
   },
   "source": [
    "# 3.8 연습 문제"
   ]
  },
  {
   "cell_type": "markdown",
   "metadata": {
    "id": "c4Z2Dp6C3IFV"
   },
   "source": [
    "## 문제 2\n",
    "\n",
    "MNIST 이미지를 (왼쪽, 오른쪽, 위쪽, 아래쪽) 어느 방향으로든 한 픽셀 이동시킬 수 있는 함수를 만들어보자.  \n",
    "그런 다음 훈련 세트에 있는 각 이미지에 대해 네 개의 이동된 복사본(방향마다 한 개씩)을 만들어 훈련 세트에 추가한다.  \n",
    "마지막으로 이 확장된 데이터셋에서 문제 1 에서 찾은 최선의 모델을 훈련시키고 테스트 세트에서 정확도를 평가해봐서 모델 성능이 더 높아졌는 지 확인해보자.  \n",
    "이렇게 인위적으로 훈련 세트를 늘리는 기법을 **데이터 증식** 또는 **훈련 세트 확장(training set expansion)**이라고 한다.\n",
    "\n",
    "\n",
    "**힌트**\n",
    "\n",
    "- 이미지 픽셀 이동은 `scipy.ndimage.interpolation` 모듈의 `shift()` 함수를 사용할 수 있다.\n",
    "  - ex) `shift(image, [2, 1], cval=0)` : 아래로 2픽셀, 오른쪽으로 1픽셀 이동"
   ]
  },
  {
   "cell_type": "markdown",
   "metadata": {
    "id": "GKctSKgl3IFW"
   },
   "source": [
    "<br>\n",
    "\n",
    "## 라이브러리 설정"
   ]
  },
  {
   "cell_type": "code",
   "execution_count": 1,
   "metadata": {
    "id": "gMSk3qnX3O3S"
   },
   "outputs": [],
   "source": [
    "# 파이썬 ≥3.5 필수\n",
    "import sys\n",
    "assert sys.version_info >= (3, 5)\n",
    "\n",
    "# 사이킷런 ≥0.20 필수\n",
    "import sklearn\n",
    "assert sklearn.__version__ >= \"0.20\"\n",
    "\n",
    "# 공통 모듈 임포트\n",
    "import numpy as np\n",
    "import os\n",
    "\n",
    "# 노트북 실행 결과를 동일하게 유지하기 위해\n",
    "np.random.seed(42)"
   ]
  },
  {
   "cell_type": "markdown",
   "metadata": {
    "id": "E2oGwf9e3QAJ"
   },
   "source": [
    "<br>\n",
    "\n",
    "## 데이터셋 불러오기"
   ]
  },
  {
   "cell_type": "code",
   "execution_count": 2,
   "metadata": {
    "id": "vXdARB2o3R9k"
   },
   "outputs": [],
   "source": [
    "# MNIST 데이터셋 불러오기\n",
    "from sklearn.datasets import fetch_openml\n",
    "\n",
    "mnist = fetch_openml('mnist_784', version=1, as_frame=False)"
   ]
  },
  {
   "cell_type": "markdown",
   "metadata": {
    "id": "6xKHb1yL3TjI"
   },
   "source": [
    "<br>\n",
    "\n",
    "## 데이터 분리"
   ]
  },
  {
   "cell_type": "code",
   "execution_count": 3,
   "metadata": {
    "id": "X8DRST6Y3VCK"
   },
   "outputs": [],
   "source": [
    "# 데이터셋 분리\n",
    "X, y = mnist['data'], mnist['target']\n",
    "\n",
    "# 레이블 데이터 타입 변환(문자열 -> 숫자)\n",
    "y = y.astype(np.uint8)\n",
    "\n",
    "# 테스트 세트 분리\n",
    "X_train, X_test, y_train, y_test = X[:60000], X[60000:], y[:60000], y[60000:]"
   ]
  },
  {
   "cell_type": "markdown",
   "metadata": {
    "id": "nABdfQcH3YGw"
   },
   "source": [
    "<br>\n",
    "\n",
    "## 모델 불러오기"
   ]
  },
  {
   "cell_type": "code",
   "execution_count": 4,
   "metadata": {
    "colab": {
     "base_uri": "https://localhost:8080/",
     "height": 352
    },
    "id": "F6FnA3on3c__",
    "outputId": "2e70488a-c6eb-445f-a810-ebf4be5a9cf4"
   },
   "outputs": [
    {
     "data": {
      "text/plain": [
       "{'n_neighbors': 4, 'weights': 'distance'}"
      ]
     },
     "execution_count": 4,
     "metadata": {},
     "output_type": "execute_result"
    }
   ],
   "source": [
    "import joblib\n",
    "\n",
    "#models_path = \"./drive/MyDrive/Colab Notebooks/models/\"\n",
    "models_path = \"../../models/\"\n",
    "\n",
    "grid_search = joblib.load(models_path + 'mnist_knn_clf_grid_search.pkl')\n",
    "grid_search.best_params_"
   ]
  },
  {
   "cell_type": "markdown",
   "metadata": {
    "id": "J0Wl2Ehd3r3j"
   },
   "source": [
    "<br>\n",
    "\n",
    "## 데이터 증식"
   ]
  },
  {
   "cell_type": "markdown",
   "metadata": {
    "id": "G3FrMpLL5xXJ"
   },
   "source": [
    "### 이미지 픽셀 이동 함수 정의"
   ]
  },
  {
   "cell_type": "code",
   "execution_count": 5,
   "metadata": {
    "id": "aKu6wuGA3yjb"
   },
   "outputs": [],
   "source": [
    "from scipy.ndimage.interpolation import shift\n",
    "\n",
    "def shift_image(image, dx, dy):\n",
    "    image = image.reshape(28, 28)\n",
    "    shifted_image = shift(image, [dy, dx], cval=0, mode='constant')\n",
    "    return shifted_image.reshape([-1])"
   ]
  },
  {
   "cell_type": "markdown",
   "metadata": {
    "id": "tYy_pnX_52lJ"
   },
   "source": [
    "<br>\n",
    "\n",
    "### 이미지 픽셀 이동 예시 확인"
   ]
  },
  {
   "cell_type": "code",
   "execution_count": 6,
   "metadata": {
    "id": "PJoUqWCM39OO"
   },
   "outputs": [],
   "source": [
    "image = X_train[1000]\n",
    "shifted_image_down = shift_image(image, 0, 5)\n",
    "shifted_image_left = shift_image(image, -5, 0)"
   ]
  },
  {
   "cell_type": "code",
   "execution_count": 7,
   "metadata": {
    "colab": {
     "base_uri": "https://localhost:8080/",
     "height": 228
    },
    "id": "koxjReC14IF4",
    "outputId": "fb8c958a-14ee-4614-dc3a-b1f2eae0b493"
   },
   "outputs": [
    {
     "data": {
      "image/png": "[encoded data removed]",
      "text/plain": [
       "<Figure size 864x216 with 3 Axes>"
      ]
     },
     "metadata": {
      "needs_background": "light"
     },
     "output_type": "display_data"
    }
   ],
   "source": [
    "import matplotlib.pyplot as plt\n",
    "%matplotlib inline\n",
    "\n",
    "plt.figure(figsize=(12,3))\n",
    "\n",
    "plt.subplot(131)\n",
    "plt.title('Original', fontsize=14)\n",
    "plt.imshow(image.reshape(28, 28), interpolation='nearest', cmap='Greys')\n",
    "\n",
    "plt.subplot(132)\n",
    "plt.title('Shifted down', fontsize=14)\n",
    "plt.imshow(shifted_image_down.reshape(28, 28), interpolation='nearest', cmap='Greys')\n",
    "\n",
    "plt.subplot(133)\n",
    "plt.title('Shifted left', fontsize=14)\n",
    "plt.imshow(shifted_image_left.reshape(28, 28), interpolation='nearest', cmap='Greys')\n",
    "\n",
    "plt.show()"
   ]
  },
  {
   "cell_type": "markdown",
   "metadata": {
    "id": "tSZVG4i656Lw"
   },
   "source": [
    "<br>\n",
    "\n",
    "### 이미지 픽셀 이동 함수를 활용한 데이터 증식"
   ]
  },
  {
   "cell_type": "code",
   "execution_count": 8,
   "metadata": {
    "id": "wBC6mJtF4cOV"
   },
   "outputs": [],
   "source": [
    "X_train_augmented = [image for image in X_train]\n",
    "y_train_augmented = [label for label in y_train]\n",
    "\n",
    "for dx, dy in ((1, 0), (-1, 0), (0, 1), (0, -1)):\n",
    "    for image, label in zip(X_train, y_train):\n",
    "        X_train_augmented.append(shift_image(image, dx, dy))\n",
    "        y_train_augmented.append(label)\n",
    "\n",
    "X_train_augmented = np.array(X_train_augmented)\n",
    "y_train_augmented = np.array(y_train_augmented)"
   ]
  },
  {
   "cell_type": "markdown",
   "metadata": {
    "id": "Kn9wLgqf6NvE"
   },
   "source": [
    "<br>\n",
    "\n",
    "### 훈련 데이터 순서 섞기"
   ]
  },
  {
   "cell_type": "code",
   "execution_count": 9,
   "metadata": {
    "id": "Lest4_zF6G2G"
   },
   "outputs": [],
   "source": [
    "shuffle_idx = np.random.permutation(len(X_train_augmented))\n",
    "X_train_augmented = X_train_augmented[shuffle_idx]\n",
    "y_train_augmented = y_train_augmented[shuffle_idx]"
   ]
  },
  {
   "cell_type": "markdown",
   "metadata": {
    "id": "qH7NGhPC6Vbw"
   },
   "source": [
    "<br>\n",
    "\n",
    "## 모델 학습, 예측 및 평가"
   ]
  },
  {
   "cell_type": "code",
   "execution_count": 10,
   "metadata": {
    "id": "rCoNsFUb6cmR"
   },
   "outputs": [],
   "source": [
    "from sklearn.neighbors import KNeighborsClassifier\n",
    "\n",
    "knn_clf = KNeighborsClassifier(**grid_search.best_params_)"
   ]
  },
  {
   "cell_type": "code",
   "execution_count": 11,
   "metadata": {
    "id": "voDzf8gc6ros"
   },
   "outputs": [
    {
     "data": {
      "text/plain": [
       "KNeighborsClassifier(n_neighbors=4, weights='distance')"
      ]
     },
     "execution_count": 11,
     "metadata": {},
     "output_type": "execute_result"
    }
   ],
   "source": [
    "knn_clf.fit(X_train_augmented, y_train_augmented)"
   ]
  },
  {
   "cell_type": "code",
   "execution_count": 12,
   "metadata": {
    "id": "2jMCte7-6v0z"
   },
   "outputs": [
    {
     "data": {
      "text/plain": [
       "0.9763"
      ]
     },
     "execution_count": 12,
     "metadata": {},
     "output_type": "execute_result"
    }
   ],
   "source": [
    "from sklearn.metrics import accuracy_score\n",
    "\n",
    "y_pred = knn_clf.predict(X_test)\n",
    "accuracy_score(y_test, y_pred)"
   ]
  }
 ],
 "metadata": {
  "colab": {
   "collapsed_sections": [],
   "name": "Ch03-08-q002_data-increasing.ipynb",
   "provenance": []
  },
  "kernelspec": {
   "display_name": "Python 3",
   "language": "python",
   "name": "python3"
  },
  "language_info": {
   "codemirror_mode": {
    "name": "ipython",
    "version": 3
   },
   "file_extension": ".py",
   "mimetype": "text/x-python",
   "name": "python",
   "nbconvert_exporter": "python",
   "pygments_lexer": "ipython3",
   "version": "3.6.9"
  }
 },
 "nbformat": 4,
 "nbformat_minor": 4
}
