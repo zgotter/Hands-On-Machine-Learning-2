{
 "cells": [
  {
   "cell_type": "markdown",
   "metadata": {},
   "source": [
    "# 3.8 연습 문제"
   ]
  },
  {
   "cell_type": "markdown",
   "metadata": {},
   "source": [
    "## 문제 4\n",
    "\n",
    "스팸 분류기를 만들어보자.\n",
    "\n",
    "**과정**\n",
    "\n",
    "- [아파치 스팸어새신(Apache SpamAssassin) 공공 데이터셋](https://homl.info/spamassassin)에서 스팸(spam)과 햄(ham, 스팸이 아닌 메일) 샘플을 내려 받는다.\n",
    "- 데이터셋의 압축을 풀고 데이터 형식을 살펴 본다.\n",
    "- 데이터셋을 훈련 세트와 테스트 세트로 나눈다.\n",
    "- 각 이메일을 특성 벡터로 변환하는 데이터 준비 파이프라인을 만든다.\n",
    "  - 이 준비 파이프라인은 하나의 이메일을 가능한 단어의 존재 여부로 나타내는 (희소) 벡터로 바꿔야 한다.\n",
    "  - ex) 'Hello you Hello Hello you'란 이메일\n",
    "    - 모든 이메일에 네 개의 단어 'Hello', 'how', 'are', 'you' 만 포함하는 경우\n",
    "      - 벡터 `[1, 0, 0, 1]` ('Hello' 있음, 'how' 없음, 'are' 없음, 'you' 있음)로 변환됨\n",
    "    - 단어의 출현 횟수에 관심이 있는 경우\n",
    "      - 벡터 `[3, 0, 0, 2]` 로 변환됨\n",
    "- 준비 파이프라인에 다음과 같은 행위들을 수행할 지 여부를 제어하기 위해 하이퍼파라미터를 추가한다.\n",
    "  - 이메일 헤더 제거\n",
    "  - 소문자 변환\n",
    "  - 구두점 제거\n",
    "  - 모든 URLs 주소를 'URL'로 대체\n",
    "  - 모든 숫자를 'NUMBER'로 대체\n",
    "  - 어간(stem) 추출\n",
    "    - 어간은 단어의 개념적 의미를 나타내는 변하지 않는 부분을 말한다.\n",
    "      - ex) '보다', '보니', '보고' -> '보-'\n",
    "      - ex) '먹다', '먹니', '먹고' -> '먹-'\n",
    "    - 즉, 단어의 끝을 떼어 냄\n",
    "    - 사이킷런에는 어간 추출기가 포함되어 있지 않다.\n",
    "    - 이런 작업을 수행할 수 있는 파이썬 라이브러리가 존재한다. (`nltk` 패키지의 `PorterStemmer`)\n",
    "- 여러 분류기를 시도해보고 재현율과 정밀도가 모두 높은 스팸 분류기를 만들 수 있는 지 확인한다."
   ]
  },
  {
   "cell_type": "code",
   "execution_count": null,
   "metadata": {},
   "outputs": [],
   "source": []
  }
 ],
 "metadata": {
  "kernelspec": {
   "display_name": "Python 3",
   "language": "python",
   "name": "python3"
  },
  "language_info": {
   "codemirror_mode": {
    "name": "ipython",
    "version": 3
   },
   "file_extension": ".py",
   "mimetype": "text/x-python",
   "name": "python",
   "nbconvert_exporter": "python",
   "pygments_lexer": "ipython3",
   "version": "3.6.9"
  }
 },
 "nbformat": 4,
 "nbformat_minor": 4
}
