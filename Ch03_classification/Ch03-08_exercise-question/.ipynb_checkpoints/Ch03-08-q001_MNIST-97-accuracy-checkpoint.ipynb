{
 "cells": [
  {
   "cell_type": "markdown",
   "metadata": {
    "id": "F5WYKlm-siK-"
   },
   "source": [
    "# 3.8 연습 문제"
   ]
  },
  {
   "cell_type": "markdown",
   "metadata": {
    "id": "IlAejKG9siLA"
   },
   "source": [
    "## 문제 1\n",
    "\n",
    "MNIST 데이터셋으로 분류기를 만들어 테스트 세트에서 97% 정확도를 달성해보자.\n",
    "\n",
    "**힌트**\n",
    "\n",
    "- `KNeighborsClassifier`가 이 작업에 아주 잘 맞는다.\n",
    "- 좋은 하이퍼파라미터 값만 찾으면 된다.\n",
    "  - `weights`와 `n_neighbors` 하이퍼파라미터로 그리드 탐색 시도"
   ]
  },
  {
   "cell_type": "markdown",
   "metadata": {
    "id": "aFtVpQg90OEJ"
   },
   "source": [
    "<br>\n",
    "\n",
    "## 라이브러리 설정"
   ]
  },
  {
   "cell_type": "code",
   "execution_count": 1,
   "metadata": {
    "id": "68LGkf3D0R_8"
   },
   "outputs": [],
   "source": [
    "# 파이썬 ≥3.5 필수\n",
    "import sys\n",
    "assert sys.version_info >= (3, 5)\n",
    "\n",
    "# 사이킷런 ≥0.20 필수\n",
    "import sklearn\n",
    "assert sklearn.__version__ >= \"0.20\"\n",
    "\n",
    "# 공통 모듈 임포트\n",
    "import numpy as np\n",
    "import os\n",
    "\n",
    "# 노트북 실행 결과를 동일하게 유지하기 위해\n",
    "np.random.seed(42)"
   ]
  },
  {
   "cell_type": "markdown",
   "metadata": {
    "id": "-v6Ems5YtLs4"
   },
   "source": [
    "<br>\n",
    "\n",
    "## 데이터셋 불러오기"
   ]
  },
  {
   "cell_type": "code",
   "execution_count": 2,
   "metadata": {
    "id": "q4PrLG08tPdS"
   },
   "outputs": [],
   "source": [
    "# MNIST 데이터셋 불러오기\n",
    "from sklearn.datasets import fetch_openml\n",
    "\n",
    "mnist = fetch_openml('mnist_784', version=1, as_frame=False)"
   ]
  },
  {
   "cell_type": "markdown",
   "metadata": {
    "id": "Co6Uf-cM0cQc"
   },
   "source": [
    "<br>\n",
    "\n",
    "## 데이터 분리"
   ]
  },
  {
   "cell_type": "code",
   "execution_count": 3,
   "metadata": {
    "id": "KTJUgmYr0fj2"
   },
   "outputs": [],
   "source": [
    "# 데이터셋 분리\n",
    "X, y = mnist['data'], mnist['target']\n",
    "\n",
    "# 레이블 데이터 타입 변환(문자열 -> 숫자)\n",
    "y = y.astype(np.uint8)\n",
    "\n",
    "# 테스트 세트 분리\n",
    "X_train, X_test, y_train, y_test = X[:60000], X[60000:], y[:60000], y[60000:]"
   ]
  },
  {
   "cell_type": "markdown",
   "metadata": {
    "id": "IDUeqLSqsiLA"
   },
   "source": [
    "<br>\n",
    "\n",
    "## 그리드 탐색\n",
    "\n",
    "- 사용하는 하드웨어에 따라 다음 셀을 실행하는 데 16시간 또는 그 이상 걸릴 수 있다."
   ]
  },
  {
   "cell_type": "code",
   "execution_count": 4,
   "metadata": {
    "id": "nRTd-8ZitF7N"
   },
   "outputs": [
    {
     "name": "stdout",
     "output_type": "stream",
     "text": [
      "Fitting 5 folds for each of 6 candidates, totalling 30 fits\n",
      "[CV 1/5] END ....n_neighbors=3, weights=uniform;, score=0.972 total time=  17.1s\n",
      "[CV 2/5] END ....n_neighbors=3, weights=uniform;, score=0.971 total time=  15.8s\n",
      "[CV 3/5] END ....n_neighbors=3, weights=uniform;, score=0.969 total time=  14.5s\n",
      "[CV 4/5] END ....n_neighbors=3, weights=uniform;, score=0.969 total time=  14.6s\n",
      "[CV 5/5] END ....n_neighbors=3, weights=uniform;, score=0.970 total time=  14.7s\n",
      "[CV 1/5] END ...n_neighbors=3, weights=distance;, score=0.972 total time=  14.6s\n",
      "[CV 2/5] END ...n_neighbors=3, weights=distance;, score=0.972 total time=  15.1s\n",
      "[CV 3/5] END ...n_neighbors=3, weights=distance;, score=0.970 total time=  14.4s\n",
      "[CV 4/5] END ...n_neighbors=3, weights=distance;, score=0.970 total time=  15.2s\n",
      "[CV 5/5] END ...n_neighbors=3, weights=distance;, score=0.971 total time=  14.7s\n",
      "[CV 1/5] END ....n_neighbors=4, weights=uniform;, score=0.969 total time=  17.8s\n",
      "[CV 2/5] END ....n_neighbors=4, weights=uniform;, score=0.968 total time=  17.8s\n",
      "[CV 3/5] END ....n_neighbors=4, weights=uniform;, score=0.968 total time=  17.8s\n",
      "[CV 4/5] END ....n_neighbors=4, weights=uniform;, score=0.967 total time=  18.3s\n",
      "[CV 5/5] END ....n_neighbors=4, weights=uniform;, score=0.970 total time=  19.0s\n",
      "[CV 1/5] END ...n_neighbors=4, weights=distance;, score=0.973 total time=  18.8s\n",
      "[CV 2/5] END ...n_neighbors=4, weights=distance;, score=0.972 total time=  20.7s\n",
      "[CV 3/5] END ...n_neighbors=4, weights=distance;, score=0.970 total time=  19.0s\n",
      "[CV 4/5] END ...n_neighbors=4, weights=distance;, score=0.971 total time=  18.9s\n",
      "[CV 5/5] END ...n_neighbors=4, weights=distance;, score=0.972 total time=  18.5s\n",
      "[CV 1/5] END ....n_neighbors=5, weights=uniform;, score=0.970 total time=  18.2s\n",
      "[CV 2/5] END ....n_neighbors=5, weights=uniform;, score=0.970 total time=  19.0s\n",
      "[CV 3/5] END ....n_neighbors=5, weights=uniform;, score=0.969 total time=  18.4s\n",
      "[CV 4/5] END ....n_neighbors=5, weights=uniform;, score=0.968 total time=  18.7s\n",
      "[CV 5/5] END ....n_neighbors=5, weights=uniform;, score=0.969 total time=  19.0s\n",
      "[CV 1/5] END ...n_neighbors=5, weights=distance;, score=0.970 total time=  18.7s\n",
      "[CV 2/5] END ...n_neighbors=5, weights=distance;, score=0.971 total time=  18.2s\n",
      "[CV 3/5] END ...n_neighbors=5, weights=distance;, score=0.970 total time=  18.9s\n",
      "[CV 4/5] END ...n_neighbors=5, weights=distance;, score=0.969 total time=  19.0s\n",
      "[CV 5/5] END ...n_neighbors=5, weights=distance;, score=0.971 total time=  18.7s\n"
     ]
    },
    {
     "data": {
      "text/plain": [
       "GridSearchCV(cv=5, estimator=KNeighborsClassifier(),\n",
       "             param_grid=[{'n_neighbors': [3, 4, 5],\n",
       "                          'weights': ['uniform', 'distance']}],\n",
       "             verbose=3)"
      ]
     },
     "execution_count": 4,
     "metadata": {},
     "output_type": "execute_result"
    }
   ],
   "source": [
    "from sklearn.neighbors import KNeighborsClassifier\n",
    "from sklearn.model_selection import GridSearchCV\n",
    "\n",
    "param_grid = [{'weights': ['uniform', 'distance'], 'n_neighbors': [3, 4, 5]}]\n",
    "\n",
    "knn_clf = KNeighborsClassifier()\n",
    "grid_search = GridSearchCV(knn_clf, param_grid, cv=5, verbose=3)\n",
    "grid_search.fit(X_train, y_train)"
   ]
  },
  {
   "cell_type": "markdown",
   "metadata": {
    "id": "V0V37EuP1pCw"
   },
   "source": [
    "<br>\n",
    "\n",
    "### 그리드 탐색 객체 저장"
   ]
  },
  {
   "cell_type": "code",
   "execution_count": 6,
   "metadata": {
    "id": "acJUbSX61rrO"
   },
   "outputs": [
    {
     "data": {
      "text/plain": [
       "['../../models/mnist_knn_clf_grid_search.pkl']"
      ]
     },
     "execution_count": 6,
     "metadata": {},
     "output_type": "execute_result"
    }
   ],
   "source": [
    "import joblib\n",
    "\n",
    "#models_path = \"./drive/MyDrive/Colab Notebooks/models/\"\n",
    "models_path = \"../../models/\"\n",
    "\n",
    "joblib.dump(grid_search, models_path + 'mnist_knn_clf_grid_search.pkl')"
   ]
  },
  {
   "cell_type": "markdown",
   "metadata": {
    "id": "f3Gk6a8H08gb"
   },
   "source": [
    "<br>\n",
    "\n",
    "### 최적 파라미터 확인"
   ]
  },
  {
   "cell_type": "code",
   "execution_count": 7,
   "metadata": {
    "id": "NoMhPnwj1L5d"
   },
   "outputs": [
    {
     "data": {
      "text/plain": [
       "{'n_neighbors': 4, 'weights': 'distance'}"
      ]
     },
     "execution_count": 7,
     "metadata": {},
     "output_type": "execute_result"
    }
   ],
   "source": [
    "grid_search.best_params_"
   ]
  },
  {
   "cell_type": "markdown",
   "metadata": {
    "id": "Lpyhcrt91OI_"
   },
   "source": [
    "<br>\n",
    "\n",
    "### 검증 최고 점수 확인"
   ]
  },
  {
   "cell_type": "code",
   "execution_count": 8,
   "metadata": {
    "id": "eL6Apiin1SGe"
   },
   "outputs": [
    {
     "data": {
      "text/plain": [
       "0.9716166666666666"
      ]
     },
     "execution_count": 8,
     "metadata": {},
     "output_type": "execute_result"
    }
   ],
   "source": [
    "grid_search.best_score_"
   ]
  },
  {
   "cell_type": "markdown",
   "metadata": {
    "id": "qgLUgAh11U_9"
   },
   "source": [
    "<br>\n",
    "\n",
    "## 평가"
   ]
  },
  {
   "cell_type": "code",
   "execution_count": 9,
   "metadata": {
    "id": "ySak4ns61WwV"
   },
   "outputs": [
    {
     "data": {
      "text/plain": [
       "0.9714"
      ]
     },
     "execution_count": 9,
     "metadata": {},
     "output_type": "execute_result"
    }
   ],
   "source": [
    "from sklearn.metrics import accuracy_score\n",
    "\n",
    "y_pred = grid_search.predict(X_test)\n",
    "accuracy_score(y_test, y_pred)"
   ]
  }
 ],
 "metadata": {
  "colab": {
   "collapsed_sections": [],
   "name": "Ch03-08-q001_MNIST-97-accuracy.ipynb",
   "provenance": []
  },
  "kernelspec": {
   "display_name": "Python 3",
   "language": "python",
   "name": "python3"
  },
  "language_info": {
   "codemirror_mode": {
    "name": "ipython",
    "version": 3
   },
   "file_extension": ".py",
   "mimetype": "text/x-python",
   "name": "python",
   "nbconvert_exporter": "python",
   "pygments_lexer": "ipython3",
   "version": "3.6.9"
  }
 },
 "nbformat": 4,
 "nbformat_minor": 4
}
