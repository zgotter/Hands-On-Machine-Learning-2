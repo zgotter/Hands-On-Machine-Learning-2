{
 "cells": [
  {
   "cell_type": "markdown",
   "metadata": {},
   "source": [
    "# 3.8 연습 문제"
   ]
  },
  {
   "cell_type": "markdown",
   "metadata": {},
   "source": [
    "## 문제 1\n",
    "\n",
    "MNIST 데이터셋으로 분류기를 만들어 테스트 세트에서 97% 정확도를 달성해보자.\n",
    "\n",
    "**힌트**\n",
    "\n",
    "- `KNeighborsClassifier`가 이 작업에 아주 잘 맞는다.\n",
    "- 좋은 하이퍼파라미터 값만 찾으면 된다.\n",
    "  - `weights`와 `n_neighbors` 하이퍼파라미터로 그리드 탐색 시도"
   ]
  },
  {
   "cell_type": "code",
   "execution_count": null,
   "metadata": {},
   "outputs": [],
   "source": []
  }
 ],
 "metadata": {
  "kernelspec": {
   "display_name": "Python 3",
   "language": "python",
   "name": "python3"
  },
  "language_info": {
   "codemirror_mode": {
    "name": "ipython",
    "version": 3
   },
   "file_extension": ".py",
   "mimetype": "text/x-python",
   "name": "python",
   "nbconvert_exporter": "python",
   "pygments_lexer": "ipython3",
   "version": "3.6.9"
  }
 },
 "nbformat": 4,
 "nbformat_minor": 4
}
