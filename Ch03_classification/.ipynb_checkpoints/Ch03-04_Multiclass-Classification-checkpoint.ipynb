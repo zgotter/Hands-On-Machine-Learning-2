{
  "nbformat": 4,
  "nbformat_minor": 0,
  "metadata": {
    "kernelspec": {
      "display_name": "Python 3",
      "language": "python",
      "name": "python3"
    },
    "language_info": {
      "codemirror_mode": {
        "name": "ipython",
        "version": 3
      },
      "file_extension": ".py",
      "mimetype": "text/x-python",
      "name": "python",
      "nbconvert_exporter": "python",
      "pygments_lexer": "ipython3",
      "version": "3.6.9"
    },
    "colab": {
      "name": "Ch03-04_Multiclass-Classification.ipynb",
      "provenance": [],
      "collapsed_sections": [],
      "toc_visible": true
    }
  },
  "cells": [
    {
      "cell_type": "markdown",
      "metadata": {
        "id": "ofX2_HikGGYw"
      },
      "source": [
        "# 3.4 다중 분류"
      ]
    },
    {
      "cell_type": "markdown",
      "metadata": {
        "id": "hKFxS3DIGGYx"
      },
      "source": [
        "## 3.4.0 이전 내용 중 필요한 로직"
      ]
    },
    {
      "cell_type": "code",
      "metadata": {
        "colab": {
          "base_uri": "https://localhost:8080/"
        },
        "id": "BOrvqhmKGGYx",
        "outputId": "91935819-d3a0-4838-ad16-484be0544be5"
      },
      "source": [
        "## 기본\n",
        "\n",
        "import warnings\n",
        "warnings.filterwarnings('ignore')\n",
        "\n",
        "# 파이썬 ≥3.5 필수\n",
        "import sys\n",
        "assert sys.version_info >= (3, 5)\n",
        "\n",
        "# 사이킷런 ≥0.20 필수\n",
        "import sklearn\n",
        "assert sklearn.__version__ >= \"0.20\"\n",
        "\n",
        "# 공통 모듈 임포트\n",
        "import numpy as np\n",
        "import os\n",
        "\n",
        "# 노트북 실행 결과를 동일하게 유지하기 위해\n",
        "np.random.seed(42)\n",
        "\n",
        "# MNIST 데이터셋 불러오기\n",
        "from sklearn.datasets import fetch_openml\n",
        "\n",
        "mnist = fetch_openml('mnist_784', version=1, as_frame=False)\n",
        "\n",
        "# 데이터셋 분리\n",
        "X, y = mnist['data'], mnist['target']\n",
        "\n",
        "# 샘플 데이터 (숫자 5)\n",
        "some_digit = X[0]\n",
        "\n",
        "# 레이블 데이터 타입 변환(문자열 -> 숫자)\n",
        "y = y.astype(np.uint8)\n",
        "\n",
        "# 테스트 세트 분리\n",
        "X_train, X_test, y_train, y_test = X[:60000], X[60000:], y[:60000], y[60000:]\n",
        "\n",
        "print('done')"
      ],
      "execution_count": 1,
      "outputs": [
        {
          "output_type": "stream",
          "text": [
            "done\n"
          ],
          "name": "stdout"
        }
      ]
    },
    {
      "cell_type": "markdown",
      "metadata": {
        "id": "3iTgYwkVGGYy"
      },
      "source": [
        "<br>\n",
        "\n",
        "## 3.4.1 다중 분류기 (multiclass classifier)\n",
        "\n",
        "- 이진 분류\n",
        "  - 두 개의 클래스를 구별  \n",
        "  \n",
        "  \n",
        "- 다중 분류기 (multiclass classifier)\n",
        "  - 다항 분류기(multinomial classifier) 라고도 불림\n",
        "  - 둘 이상의 클래스를 구별"
      ]
    },
    {
      "cell_type": "markdown",
      "metadata": {
        "id": "xy7E_e9GGGYz"
      },
      "source": [
        "<br>\n",
        "\n",
        "## 3.4.2 다중 분류가 가능한 알고리즘\n",
        "\n",
        "- SGD 분류기\n",
        "- 랜덤 포레스트 분류기\n",
        "- 나이브 베이즈(naive bayes) 분류기"
      ]
    },
    {
      "cell_type": "markdown",
      "metadata": {
        "id": "eGpipHg6GGYz"
      },
      "source": [
        "**cf) 이진 분류만 가능한 알고리즘**\n",
        "\n",
        "- 로지스틱 회귀\n",
        "- 서포트 벡터 머신 분류"
      ]
    },
    {
      "cell_type": "markdown",
      "metadata": {
        "id": "nCGXvw1pGGY0"
      },
      "source": [
        "<br>\n",
        "\n",
        "## 3.4.3 이진 분류기 여러 개를 사용한 다중 클래스 분류 전략\n",
        "\n",
        "- 특정 숫자 하나만 구분하는 숫자별 이진 분류기 10개(0~9)를 훈련 시켜 클래스가 10개인 숫자 이미지 분류 시스템을 만들 수 있음"
      ]
    },
    {
      "cell_type": "markdown",
      "metadata": {
        "id": "LVS27qZ-GGY0"
      },
      "source": [
        "**1) OvR(one-versus-the-rest) 전략**\n",
        "\n",
        "- 이미지 분류 시 각 분류기의 결정 점수 중에서 가장 높은 것을 클래스로 선택하는 전략\n",
        "- OvA(one-versus-all) 전략이라고도 불림\n",
        "- 대부분의 이진 분류 알고리즘에서는 해당 전략을 선호"
      ]
    },
    {
      "cell_type": "markdown",
      "metadata": {
        "id": "Q8htpcdNGGY1"
      },
      "source": [
        "**2) OvO(one-versus-one) 전략**\n",
        "\n",
        "- 0과 1 구별, 0과 2 구별, 1과 2 구별 등과 같이 각 숫자의 조합마다 이진 분류기를 훈련시키는 전략\n",
        "- 클래스가 $N$개라면 분류기는 $N \\times \\left( N-1 \\right) / 2$ 개가 필요\n",
        "  - $n$개의 원소에서 $k$를 뽑을 수 있는 조합의 수 (이항 계수 공식)\n",
        "- ex) MNIST 문제에서는 45개의 분류기를 훈련시켜야 한다.\n",
        "  - $10 \\times 9 \\; / \\; 2 = 45$\n",
        "  - 이미지 하나를 분류하려면 45개 분류기 모두를 통과시켜서 가장 많이 양성으로 분류된 클래스 선택\n",
        "- 주요 장점\n",
        "  - 각 분류기의 훈련에 전체 훈련 세트 중 구별할 두 클래스에 해당하는 샘플만 필요\n",
        "- 훈련 세트의 크기에 민감한 일부 알고리즘(ex. 서포트 벡터 머신)에서는 OvO 전략 선호\n",
        "  - 큰 훈련 세트에서 몇 개의 분류기를 훈련시키는 것보다 작은 훈련 세트에서 많은 분류기를 훈련시키는 쪽이 빠르기 때문"
      ]
    },
    {
      "cell_type": "markdown",
      "metadata": {
        "id": "CzXNnZW9GGY2"
      },
      "source": [
        "- 다중 클래스 분류 작업에 이진 분류 알고리즘을 선택하면 사이킷런이 알고리즘에 따라 자동으로 OvR 또는 OvO를 실행한다.\n",
        "  - `sklearn.svm.LinearSVC` : OvR 전략 사용\n",
        "  - `sklearn.svm.SVC` : OvO 전략 사용"
      ]
    },
    {
      "cell_type": "code",
      "metadata": {
        "colab": {
          "base_uri": "https://localhost:8080/"
        },
        "id": "A-7H3Ua8GGY2",
        "outputId": "adb578d8-ee26-4aeb-ace3-487658e252e0"
      },
      "source": [
        "from sklearn.svm import SVC\n",
        "\n",
        "svm_clf = SVC()\n",
        "svm_clf.fit(X_train[:1000], y_train[:1000])\n",
        "svm_clf.predict([some_digit]) # 5"
      ],
      "execution_count": 2,
      "outputs": [
        {
          "output_type": "execute_result",
          "data": {
            "text/plain": [
              "array([5], dtype=uint8)"
            ]
          },
          "metadata": {
            "tags": []
          },
          "execution_count": 2
        }
      ]
    },
    {
      "cell_type": "markdown",
      "metadata": {
        "id": "gHI0pVXwGGY3"
      },
      "source": [
        "<br>\n",
        "\n",
        "- 내부에서는 사이킷런이 OvO 전략을 사용해 10개의 이진 분류기를 훈련시키고 각각의 결정 점수를 얻어 점수가 가장 높은 클래스를 선택한다."
      ]
    },
    {
      "cell_type": "code",
      "metadata": {
        "colab": {
          "base_uri": "https://localhost:8080/"
        },
        "id": "tkQnCH_DGGY3",
        "outputId": "c6be9654-cee1-4937-8b85-a1c0ef4c3104"
      },
      "source": [
        "some_digit_scores = svm_clf.decision_function([some_digit])\n",
        "some_digit_scores"
      ],
      "execution_count": 3,
      "outputs": [
        {
          "output_type": "execute_result",
          "data": {
            "text/plain": [
              "array([[ 1.75828215,  2.74956232,  6.13809559,  8.2853702 , -0.28728967,\n",
              "         9.30119996,  0.74228825,  3.79256174,  7.20847395,  4.85762716]])"
            ]
          },
          "metadata": {
            "tags": []
          },
          "execution_count": 3
        }
      ]
    },
    {
      "cell_type": "code",
      "metadata": {
        "colab": {
          "base_uri": "https://localhost:8080/"
        },
        "id": "jQGAeRe4GGY4",
        "outputId": "fcb68821-e038-4739-efa0-6b70f0ae9be5"
      },
      "source": [
        "np.argmax(some_digit_scores)"
      ],
      "execution_count": 4,
      "outputs": [
        {
          "output_type": "execute_result",
          "data": {
            "text/plain": [
              "5"
            ]
          },
          "metadata": {
            "tags": []
          },
          "execution_count": 4
        }
      ]
    },
    {
      "cell_type": "markdown",
      "metadata": {
        "id": "ZHGPx43wGGY4"
      },
      "source": [
        "<br>\n",
        "\n",
        "- 분류기가 훈련될 때 `classes_` 속성에 타깃 클래스의 리스트를 값으로 정렬하여 저장한다.\n",
        "- `classes_` 배열에 있는 각 클래스의 인덱스가 클래스 값 자체와 같다.\n",
        "  - i.e. 인덱스 5에 해당하는 클래스의 값은 5이다.\n",
        "- 하지만 일반적으로 이런 경우는 드물다."
      ]
    },
    {
      "cell_type": "code",
      "metadata": {
        "colab": {
          "base_uri": "https://localhost:8080/"
        },
        "id": "8FsU_m9bGGY5",
        "outputId": "821fadf2-02a4-404f-ad31-47d127100983"
      },
      "source": [
        "svm_clf.classes_"
      ],
      "execution_count": 5,
      "outputs": [
        {
          "output_type": "execute_result",
          "data": {
            "text/plain": [
              "array([0, 1, 2, 3, 4, 5, 6, 7, 8, 9], dtype=uint8)"
            ]
          },
          "metadata": {
            "tags": []
          },
          "execution_count": 5
        }
      ]
    },
    {
      "cell_type": "code",
      "metadata": {
        "colab": {
          "base_uri": "https://localhost:8080/"
        },
        "id": "XFuGLvnKGGY5",
        "outputId": "26d7d766-a794-4098-f89c-ffdbba63911d"
      },
      "source": [
        "svm_clf.classes_[5]"
      ],
      "execution_count": 6,
      "outputs": [
        {
          "output_type": "execute_result",
          "data": {
            "text/plain": [
              "5"
            ]
          },
          "metadata": {
            "tags": []
          },
          "execution_count": 6
        }
      ]
    },
    {
      "cell_type": "markdown",
      "metadata": {
        "id": "Y7GQx5pCGGY5"
      },
      "source": [
        "<br>\n",
        "\n",
        "## 3.4.4 OvO, OvR 전략 강제 적용\n",
        "\n",
        "- 사이킷런에서 OvO나 OvR을 사용하도록 강제하려면 다음 2가지 클래스를 사용한다.\n",
        "  - `OneVsOneClassifier` : OvO\n",
        "  - `OneVsRestClassifier` : OvR\n",
        "- 간단하게 이진 분류기 인스턴스를 만들어 객체를 생성할 때 전달하면 된다. (이진 분류기일 필요는 없음, 다중 분류기도 가능)"
      ]
    },
    {
      "cell_type": "markdown",
      "metadata": {
        "id": "gdKXr1_rGGY6"
      },
      "source": [
        "<br>\n",
        "\n",
        "### 3.4.4.1 `SVC` 기반으로 OvR 전략을 사용하는 다중 분류기 구현"
      ]
    },
    {
      "cell_type": "code",
      "metadata": {
        "colab": {
          "base_uri": "https://localhost:8080/"
        },
        "id": "2rhtCgteGGY6",
        "outputId": "75d69173-c876-4d1f-f237-57ee8c4a437f"
      },
      "source": [
        "from sklearn.multiclass import OneVsRestClassifier\n",
        "\n",
        "ovr_clf = OneVsRestClassifier(SVC())\n",
        "ovr_clf.fit(X_train[:1000], y_train[:1000])"
      ],
      "execution_count": 7,
      "outputs": [
        {
          "output_type": "execute_result",
          "data": {
            "text/plain": [
              "OneVsRestClassifier(estimator=SVC(C=1.0, break_ties=False, cache_size=200,\n",
              "                                  class_weight=None, coef0=0.0,\n",
              "                                  decision_function_shape='ovr', degree=3,\n",
              "                                  gamma='scale', kernel='rbf', max_iter=-1,\n",
              "                                  probability=False, random_state=None,\n",
              "                                  shrinking=True, tol=0.001, verbose=False),\n",
              "                    n_jobs=None)"
            ]
          },
          "metadata": {
            "tags": []
          },
          "execution_count": 7
        }
      ]
    },
    {
      "cell_type": "code",
      "metadata": {
        "colab": {
          "base_uri": "https://localhost:8080/"
        },
        "id": "IR1ysJ_nGGY6",
        "outputId": "14020f59-bcac-4f3a-ec8f-4ebca497fdfe"
      },
      "source": [
        "ovr_clf.predict([some_digit])"
      ],
      "execution_count": 8,
      "outputs": [
        {
          "output_type": "execute_result",
          "data": {
            "text/plain": [
              "array([5], dtype=uint8)"
            ]
          },
          "metadata": {
            "tags": []
          },
          "execution_count": 8
        }
      ]
    },
    {
      "cell_type": "code",
      "metadata": {
        "colab": {
          "base_uri": "https://localhost:8080/"
        },
        "id": "6Kw9AJzCGGY6",
        "outputId": "08092ef6-a243-4513-cb5a-1224249ef7e1"
      },
      "source": [
        "len(ovr_clf.estimators_)"
      ],
      "execution_count": 9,
      "outputs": [
        {
          "output_type": "execute_result",
          "data": {
            "text/plain": [
              "10"
            ]
          },
          "metadata": {
            "tags": []
          },
          "execution_count": 9
        }
      ]
    },
    {
      "cell_type": "markdown",
      "metadata": {
        "id": "pW7vHSqCGGY7"
      },
      "source": [
        "<br>\n",
        "\n",
        "## 3.4.5 `SGDClassifier`(또는 `RandomForestClassifier`) 기반 다중 분류기 구현\n",
        "\n",
        "- SGD 분류기는 직접 샘플을 다중 클래스로 분류할 수 있기 때문에 별도로 사이킷런의 OvR이나 OvO를 적용할 필요가 없다."
      ]
    },
    {
      "cell_type": "code",
      "metadata": {
        "colab": {
          "base_uri": "https://localhost:8080/"
        },
        "id": "PDvZfEZIGGY7",
        "outputId": "f36a5cd6-6620-4fac-e2e5-51cb2be5d049"
      },
      "source": [
        "from sklearn.linear_model import SGDClassifier\n",
        "\n",
        "sgd_clf = SGDClassifier(max_iter=1000, tol=1e-3)\n",
        "sgd_clf.fit(X_train[:1000], y_train[:1000])"
      ],
      "execution_count": 10,
      "outputs": [
        {
          "output_type": "execute_result",
          "data": {
            "text/plain": [
              "SGDClassifier(alpha=0.0001, average=False, class_weight=None,\n",
              "              early_stopping=False, epsilon=0.1, eta0=0.0, fit_intercept=True,\n",
              "              l1_ratio=0.15, learning_rate='optimal', loss='hinge',\n",
              "              max_iter=1000, n_iter_no_change=5, n_jobs=None, penalty='l2',\n",
              "              power_t=0.5, random_state=None, shuffle=True, tol=0.001,\n",
              "              validation_fraction=0.1, verbose=0, warm_start=False)"
            ]
          },
          "metadata": {
            "tags": []
          },
          "execution_count": 10
        }
      ]
    },
    {
      "cell_type": "code",
      "metadata": {
        "colab": {
          "base_uri": "https://localhost:8080/"
        },
        "id": "grhVFoK8GGY7",
        "outputId": "dbe248ef-8e94-4b45-b3ca-361e200a2cae"
      },
      "source": [
        "sgd_clf.predict([some_digit])"
      ],
      "execution_count": 11,
      "outputs": [
        {
          "output_type": "execute_result",
          "data": {
            "text/plain": [
              "array([5], dtype=uint8)"
            ]
          },
          "metadata": {
            "tags": []
          },
          "execution_count": 11
        }
      ]
    },
    {
      "cell_type": "markdown",
      "metadata": {
        "id": "NCvlNY0hGGY7"
      },
      "source": [
        "<br>\n",
        "\n",
        "- `decision_function()` 메서드는 각 샘플에 대해 클래스마다 하나의 값을 반환한다.\n",
        "- SGD 분류기가 클래스마다 분류한 점수를 확인해보자."
      ]
    },
    {
      "cell_type": "code",
      "metadata": {
        "colab": {
          "base_uri": "https://localhost:8080/"
        },
        "id": "ukDtg192GGY8",
        "outputId": "a53777e6-6e08-4a4f-ccca-fa809a0c3a97"
      },
      "source": [
        "sgd_clf.decision_function([some_digit])"
      ],
      "execution_count": 12,
      "outputs": [
        {
          "output_type": "execute_result",
          "data": {
            "text/plain": [
              "array([[-5729001.13389174, -4714442.8733707 , -3391334.3645554 ,\n",
              "         -270280.23939202, -5048896.19628065,   478544.38444117,\n",
              "        -6777765.71045801, -3674811.21587839, -2799574.15341868,\n",
              "        -3214596.72388322]])"
            ]
          },
          "metadata": {
            "tags": []
          },
          "execution_count": 12
        }
      ]
    },
    {
      "cell_type": "markdown",
      "metadata": {
        "id": "wM_21Eq9GGY8"
      },
      "source": [
        "- 이 결과에서 분류기가 예측 결과에 강한 확신을 보이고 있음을 알 수 있다.\n",
        "  - 대부분의 점수가 큰 음수이다.\n",
        "  - 반면 클래스 5의 점수는 3343.9 이다."
      ]
    },
    {
      "cell_type": "markdown",
      "metadata": {
        "id": "NFJckmVSGGY8"
      },
      "source": [
        "<br>\n",
        "\n",
        "## 3.4.5 다중 분류기 평가\n",
        "\n",
        "- 분류기 평가에는 일반적으로 교차 검증을 사용한다.\n",
        "- `cross_val_score()` 함수를 사용해 `SGDClassifier`의 정확도를 확인해보자."
      ]
    },
    {
      "cell_type": "code",
      "metadata": {
        "colab": {
          "base_uri": "https://localhost:8080/"
        },
        "id": "btUOCxMvGGY8",
        "outputId": "1d2ff4e9-09fb-4c48-f35e-3f15812357aa"
      },
      "source": [
        "from sklearn.model_selection import cross_val_score\n",
        "\n",
        "cross_val_score(sgd_clf, X_train[:1000], y_train[:1000], \n",
        "                cv=3, scoring='accuracy')"
      ],
      "execution_count": 13,
      "outputs": [
        {
          "output_type": "execute_result",
          "data": {
            "text/plain": [
              "array([0.84131737, 0.81081081, 0.81081081])"
            ]
          },
          "metadata": {
            "tags": []
          },
          "execution_count": 13
        }
      ]
    },
    {
      "cell_type": "markdown",
      "metadata": {
        "id": "m-HAqUKFGGY9"
      },
      "source": [
        "- 모든 테스트 폴드에서 84% 이상을 얻었다.\n",
        "- 랜덤 분류기를 사용했다면 10% 정확도를 얻었을 것이므로 이 점수가 아주 나쁘진 않지만 성능을 더 높일 여지가 있다."
      ]
    },
    {
      "cell_type": "markdown",
      "metadata": {
        "id": "UntURUg7GGY9"
      },
      "source": [
        "<br>\n",
        "\n",
        "## 3.4.6 다중 분류기 성능 향상\n",
        "\n",
        "- ex) 입력 스케일을 조정하면 정확도를 89% 이상으로 높일 수 있다."
      ]
    },
    {
      "cell_type": "code",
      "metadata": {
        "colab": {
          "base_uri": "https://localhost:8080/"
        },
        "id": "oIhCqdbNGGY9",
        "outputId": "d1830aa7-1f2d-41c9-b702-780103ca9198"
      },
      "source": [
        "from sklearn.preprocessing import StandardScaler\n",
        "\n",
        "scaler = StandardScaler()\n",
        "\n",
        "X_train_scaled = scaler.fit_transform(X_train.astype(np.float64))\n",
        "cross_val_score(sgd_clf, X_train_scaled[:1000], y_train[:1000], \n",
        "                cv=3, scoring='accuracy')"
      ],
      "execution_count": 14,
      "outputs": [
        {
          "output_type": "execute_result",
          "data": {
            "text/plain": [
              "array([0.83233533, 0.81981982, 0.78978979])"
            ]
          },
          "metadata": {
            "tags": []
          },
          "execution_count": 14
        }
      ]
    },
    {
      "cell_type": "markdown",
      "metadata": {
        "id": "Ylbiu2xMGGY-"
      },
      "source": [
        "<br>\n",
        "\n",
        "## 3.4.7 KNN 분류기"
      ]
    },
    {
      "cell_type": "markdown",
      "metadata": {
        "id": "rsZmWA40GGY-"
      },
      "source": [
        "### 3.4.7.1 KNN 분류기 학습"
      ]
    },
    {
      "cell_type": "code",
      "metadata": {
        "colab": {
          "base_uri": "https://localhost:8080/"
        },
        "id": "F8MgrT7EGGY-",
        "outputId": "4734c36e-0712-4bf1-838e-8f443d036603"
      },
      "source": [
        "from sklearn.neighbors import KNeighborsClassifier\n",
        "\n",
        "knn_clf = KNeighborsClassifier(weights='distance', n_neighbors=4)\n",
        "knn_clf.fit(X_train[:1000], y_train[:1000])"
      ],
      "execution_count": 16,
      "outputs": [
        {
          "output_type": "execute_result",
          "data": {
            "text/plain": [
              "KNeighborsClassifier(algorithm='auto', leaf_size=30, metric='minkowski',\n",
              "                     metric_params=None, n_jobs=None, n_neighbors=4, p=2,\n",
              "                     weights='distance')"
            ]
          },
          "metadata": {
            "tags": []
          },
          "execution_count": 16
        }
      ]
    },
    {
      "cell_type": "markdown",
      "metadata": {
        "id": "KsfxeutVGnCz"
      },
      "source": [
        "<br>\n",
        "\n",
        "### 3.4.7.2 KNN 분류기 예측"
      ]
    },
    {
      "cell_type": "code",
      "metadata": {
        "id": "0b5NsJmDG7Ce"
      },
      "source": [
        "y_knn_pred = knn_clf.predict(X_test[:1000])"
      ],
      "execution_count": 17,
      "outputs": []
    },
    {
      "cell_type": "markdown",
      "metadata": {
        "id": "bLeGF2v0G_8T"
      },
      "source": [
        "<br>\n",
        "\n",
        "### 3.4.7.3 KNN 분류기 평가"
      ]
    },
    {
      "cell_type": "code",
      "metadata": {
        "colab": {
          "base_uri": "https://localhost:8080/"
        },
        "id": "kWGVaJaYHDem",
        "outputId": "08b5c232-c8a6-4051-d9bc-9b01802d2284"
      },
      "source": [
        "from sklearn.metrics import accuracy_score\n",
        "\n",
        "accuracy_score(y_test[:1000], y_knn_pred)"
      ],
      "execution_count": 18,
      "outputs": [
        {
          "output_type": "execute_result",
          "data": {
            "text/plain": [
              "0.827"
            ]
          },
          "metadata": {
            "tags": []
          },
          "execution_count": 18
        }
      ]
    }
  ]
}