{
  "nbformat": 4,
  "nbformat_minor": 0,
  "metadata": {
    "kernelspec": {
      "display_name": "Python 3",
      "language": "python",
      "name": "python3"
    },
    "language_info": {
      "codemirror_mode": {
        "name": "ipython",
        "version": 3
      },
      "file_extension": ".py",
      "mimetype": "text/x-python",
      "name": "python",
      "nbconvert_exporter": "python",
      "pygments_lexer": "ipython3",
      "version": "3.6.9"
    },
    "colab": {
      "name": "Ch03-06_Multilabel-Classification.ipynb",
      "provenance": [],
      "collapsed_sections": []
    }
  },
  "cells": [
    {
      "cell_type": "markdown",
      "metadata": {
        "id": "HvsH5Qko-JIb"
      },
      "source": [
        "# 3.6 다중 레이블 분류"
      ]
    },
    {
      "cell_type": "markdown",
      "metadata": {
        "id": "x6PYFOQM-JIm"
      },
      "source": [
        "## 3.6.0 이전 내용 중 필요한 로직"
      ]
    },
    {
      "cell_type": "code",
      "metadata": {
        "id": "Yx6Rnb6--JIn"
      },
      "source": [
        "## 기본\n",
        "\n",
        "import warnings\n",
        "warnings.filterwarnings('ignore')\n",
        "\n",
        "# 파이썬 ≥3.5 필수\n",
        "import sys\n",
        "assert sys.version_info >= (3, 5)\n",
        "\n",
        "# 사이킷런 ≥0.20 필수\n",
        "import sklearn\n",
        "assert sklearn.__version__ >= \"0.20\"\n",
        "\n",
        "# 공통 모듈 임포트\n",
        "import numpy as np\n",
        "import os\n",
        "\n",
        "# 노트북 실행 결과를 동일하게 유지하기 위해\n",
        "np.random.seed(42)\n",
        "\n",
        "# MNIST 데이터셋 불러오기\n",
        "from sklearn.datasets import fetch_openml\n",
        "\n",
        "mnist = fetch_openml('mnist_784', version=1, as_frame=False)\n",
        "\n",
        "# 데이터셋 분리\n",
        "X, y = mnist['data'], mnist['target']\n",
        "\n",
        "# 샘플 데이터 (숫자 5)\n",
        "some_digit = X[0]\n",
        "\n",
        "# 레이블 데이터 타입 변환(문자열 -> 숫자)\n",
        "y = y.astype(np.uint8)\n",
        "\n",
        "# 테스트 세트 분리\n",
        "X_train, X_test, y_train, y_test = X[:60000], X[60000:], y[:60000], y[60000:]"
      ],
      "execution_count": 1,
      "outputs": []
    },
    {
      "cell_type": "markdown",
      "metadata": {
        "id": "d1kAxP2_-JIp"
      },
      "source": [
        "<br>\n",
        "\n",
        "## 3.6.1 다중 레이블 분류(multilabel classification) 시스템\n",
        "\n",
        "- 분류기가 샘플마다 여러 개의 클래스를 출력해야 할 경우가 있다.\n",
        "  - ex) 얼굴 인식 분류기\n",
        "    - 같은 사진에 여러 사람이 등장\n",
        "    - 인식된 사람마다 하나씩 꼬리표(tag)를 붙여야 한다.\n",
        "    - 분류기가 앨리스, 밥, 찰리 세 얼굴을 인식하도록 훈련되었다고 가정\n",
        "    - 분류기가 앨리스와 찰리가 있는 사진을 본다면 `[1, 0, 1]` 을 출력할 것\n",
        "      - 앨리스 있음(1)\n",
        "      - 밥 없음(0)\n",
        "      - 찰리 있음(1)\n",
        "- 이처럼 여러 개의 이진 꼬리표를 출력하는 분류 시스템을 **다중 레이블 분류(multilabel classification)** 시스템이라고 한다."
      ]
    },
    {
      "cell_type": "markdown",
      "metadata": {
        "id": "1LOQHek7-JIq"
      },
      "source": [
        "<br>\n",
        "\n",
        "## 3.6.2 다중 레이블 분류기 학습 및 예측"
      ]
    },
    {
      "cell_type": "markdown",
      "metadata": {
        "id": "H1bsDvDc-JIq"
      },
      "source": [
        "### 3.6.2.1 다중 레이블 생성\n",
        "\n",
        "- 각 숫자 이미지에 두 개의 타깃 레이블이 담긴 `y_multilabel` 배열 생성\n",
        "  - `y_train_large`\n",
        "    - 숫자가 큰 값(7, 8, 9)인 지를 나타냄\n",
        "    - 홀수인지를 나타냄"
      ]
    },
    {
      "cell_type": "code",
      "metadata": {
        "id": "Ak7LCbF0-JIr"
      },
      "source": [
        "y_train_large = (y_train >= 7) # 숫자가 7 이상 인지 아닌지 (7 이상: 1, 7 미만: 0)\n",
        "y_train_odd = (y_train % 2 == 1) # 홀수인지 아닌지 (홀수: 1, 짝수: 0)\n",
        "y_multilabel = np.c_[y_train_large, y_train_odd]"
      ],
      "execution_count": 2,
      "outputs": []
    },
    {
      "cell_type": "markdown",
      "metadata": {
        "id": "-Bcp5_AG-JIr"
      },
      "source": [
        "<br>\n",
        "\n",
        "### 3.6.2.2 다중 레이블 분류 지원 알고리즘\n",
        "\n",
        "- `KNeighborsClassifer` 인스턴스 생성 후 다중 타깃 배열을 사용하여 훈련 시킨다. (`KNeighborsClassifier`는 다중 레이블 분류를 지원)\n",
        "- 모든 분류기가 다중 레이블 분류를 지원하진 않는다.\n",
        "- 다중 레이블 분류 지원 알고리즘\n",
        "  - KNN\n",
        "  - 결정 트리\n",
        "  - 랜덤 포레스트\n",
        "  - `OneVsRestClassifier`"
      ]
    },
    {
      "cell_type": "code",
      "metadata": {
        "colab": {
          "base_uri": "https://localhost:8080/"
        },
        "id": "jPtMbv3v-JIs",
        "outputId": "53f19da3-1a42-486f-8855-4f129bffc767"
      },
      "source": [
        "from sklearn.neighbors import KNeighborsClassifier\n",
        "\n",
        "knn_clf = KNeighborsClassifier()\n",
        "knn_clf.fit(X_train, y_multilabel)"
      ],
      "execution_count": 3,
      "outputs": [
        {
          "output_type": "execute_result",
          "data": {
            "text/plain": [
              "KNeighborsClassifier(algorithm='auto', leaf_size=30, metric='minkowski',\n",
              "                     metric_params=None, n_jobs=None, n_neighbors=5, p=2,\n",
              "                     weights='uniform')"
            ]
          },
          "metadata": {
            "tags": []
          },
          "execution_count": 3
        }
      ]
    },
    {
      "cell_type": "markdown",
      "metadata": {
        "id": "3WYUCMED-JIt"
      },
      "source": [
        "<br>\n",
        "\n",
        "### 3.6.2.3 예측\n",
        "\n",
        "- 예측을 만들면 레이블이 두 개 출력된다."
      ]
    },
    {
      "cell_type": "code",
      "metadata": {
        "colab": {
          "base_uri": "https://localhost:8080/"
        },
        "id": "ViELEIRj-JIt",
        "outputId": "38fe6f76-1d65-4e89-b010-b77b266d25f2"
      },
      "source": [
        "knn_clf.predict([some_digit])"
      ],
      "execution_count": 4,
      "outputs": [
        {
          "output_type": "execute_result",
          "data": {
            "text/plain": [
              "array([[False,  True]])"
            ]
          },
          "metadata": {
            "tags": []
          },
          "execution_count": 4
        }
      ]
    },
    {
      "cell_type": "markdown",
      "metadata": {
        "id": "MIrXmeD1-JIu"
      },
      "source": [
        "- 숫자 5는 크지 않음 (`False`)\n",
        "- 숫자 5는 홀수임 (`True`)"
      ]
    },
    {
      "cell_type": "markdown",
      "metadata": {
        "id": "YIuzXYTJ-JIu"
      },
      "source": [
        "<br>\n",
        "\n",
        "## 3.6.3 다중 레이블 분류기 평가"
      ]
    },
    {
      "cell_type": "markdown",
      "metadata": {
        "id": "a7qm_JhE-JIv"
      },
      "source": [
        "### 3.6.3.1 평가 방법\n",
        "\n",
        "- 적절한 평가 지표는 프로젝트에 따라 다르다.\n",
        "  - ex) 각 레이블의 $F_1$ 점수(또는 여러 가지 이진 분류 지표 사용(ex. 정밀도, 재현율, ROC AUC 등))를 구하고 간단하게 **평균 점수 계산**"
      ]
    },
    {
      "cell_type": "markdown",
      "metadata": {
        "id": "2h15YRjf-JIv"
      },
      "source": [
        "<br>\n",
        "\n",
        "### 3.6.3.2 모든 레이블에 대한 $F_1$ 점수의 평균 계산 예시"
      ]
    },
    {
      "cell_type": "code",
      "metadata": {
        "colab": {
          "base_uri": "https://localhost:8080/"
        },
        "id": "O9brWfzF-JIw",
        "outputId": "82544075-9813-4c14-f291-0d1ddf5f434b"
      },
      "source": [
        "from sklearn.model_selection import cross_val_predict\n",
        "from sklearn.metrics import f1_score\n",
        "\n",
        "y_train_knn_pred = cross_val_predict(knn_clf, X_train, y_multilabel, cv=3)\n",
        "f1_score = f1_score(y_multilabel, y_train_knn_pred, average='macro')\n",
        "f1_score"
      ],
      "execution_count": 5,
      "outputs": [
        {
          "output_type": "execute_result",
          "data": {
            "text/plain": [
              "0.976410265560605"
            ]
          },
          "metadata": {
            "tags": []
          },
          "execution_count": 5
        }
      ]
    },
    {
      "cell_type": "markdown",
      "metadata": {
        "id": "qev_2NY1-JIw"
      },
      "source": [
        "<br>\n",
        "\n",
        "### 3.6.3.3 레이블 비율에 따른 가중치 부여\n",
        "\n",
        "- 위의 코드는 모든 레이블의 가중치가 동일하다고 가정한다.\n",
        "- 만약 앨리스 사진이 밥이나 찰리 사진보다 훨씬 많다면 앨리스 사진에 대한 분류기의 점수에 더 높은 가중치를 둬야 한다.\n",
        "  - ex) 레이블에 클래스의 **지지도(support, 타깃 레이블에 속한 샘플 수)**를 가중치로 둠\n",
        "  - 이렇게 하려면 위 코드에서 `average=\"weighted\"`로 설정하면 된다."
      ]
    },
    {
      "cell_type": "markdown",
      "metadata": {
        "id": "2UVsXlEJ-JIx"
      },
      "source": [
        "<br>\n",
        "\n",
        "### cf) 사이킷런 평균 계산 방식 및 다중 레이블 분류기 지표\n",
        "\n",
        "- `average=\"marco\"`\n",
        "  - 모든 클래스의 FP, FN, TP 총합을 이용해 $F_1$ 점수를 계산  \n",
        "  \n",
        "  \n",
        "- 다음 함수들이 다중 분류를 지원\n",
        "  - `accuracy_score`\n",
        "  - `precision_score`\n",
        "  - `recall_score`\n",
        "  - `classification_report`"
      ]
    }
  ]
}